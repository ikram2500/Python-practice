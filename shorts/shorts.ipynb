{
 "cells": [
  {
   "cell_type": "code",
   "execution_count": 1,
   "id": "179b728e",
   "metadata": {},
   "outputs": [
    {
     "name": "stdout",
     "output_type": "stream",
     "text": [
      "hell\n"
     ]
    }
   ],
   "source": [
    "print(\n",
    "    'hell'\n",
    ")"
   ]
  },
  {
   "cell_type": "code",
   "execution_count": 3,
   "id": "5cce4574",
   "metadata": {},
   "outputs": [],
   "source": [
    "from datetime import datetime\n",
    "\n",
    "@lambda _: _()\n",
    "def start_time() -> str:\n",
    "    date = datetime.now()\n",
    "    return f'{date:%T}'\n",
    "\n",
    "#print(start_time)"
   ]
  },
  {
   "cell_type": "code",
   "execution_count": 3,
   "id": "6e7c3a00",
   "metadata": {},
   "outputs": [
    {
     "name": "stdout",
     "output_type": "stream",
     "text": [
      "6\n"
     ]
    }
   ],
   "source": [
    "def logical(x):\n",
    "    if x == 1:\n",
    "        return 1 \n",
    "    else:\n",
    "        return (x + logical(x - 1))\n",
    "\n",
    "result = logical(3)\n",
    "print(result)\n",
    "# how the answer is 6"
   ]
  },
  {
   "cell_type": "code",
   "execution_count": 5,
   "id": "6ed0b2a3",
   "metadata": {},
   "outputs": [],
   "source": [
    "import colorsys\n",
    "import turtle\n",
    "\n",
    "t = turtle.Turtle()\n",
    "s = turtle.Screen()\n",
    "\n",
    "s.bgcolor('black')\n",
    "t.speed(0)\n",
    "\n",
    "n = 36\n",
    "h = 0\n",
    "\n",
    "for i in range(460):\n",
    "    c = colorsys.hsv_to_rgb(h, 1, 0.8)\n",
    "    h += 1/n \n",
    "    t.color(c)\n",
    "    t.left(145)\n",
    "\n",
    "    for j in range(5):\n",
    "        t.forward(300)\n",
    "        t.left(150)"
   ]
  },
  {
   "cell_type": "code",
   "execution_count": null,
   "id": "5363a9eb",
   "metadata": {},
   "outputs": [],
   "source": []
  }
 ],
 "metadata": {
  "kernelspec": {
   "display_name": "env",
   "language": "python",
   "name": "python3"
  },
  "language_info": {
   "codemirror_mode": {
    "name": "ipython",
    "version": 3
   },
   "file_extension": ".py",
   "mimetype": "text/x-python",
   "name": "python",
   "nbconvert_exporter": "python",
   "pygments_lexer": "ipython3",
   "version": "3.12.10"
  }
 },
 "nbformat": 4,
 "nbformat_minor": 5
}
