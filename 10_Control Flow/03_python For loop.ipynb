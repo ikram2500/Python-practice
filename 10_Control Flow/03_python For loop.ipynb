{
 "cells": [
  {
   "cell_type": "code",
   "execution_count": 2,
   "id": "0564e8fb",
   "metadata": {},
   "outputs": [
    {
     "name": "stdout",
     "output_type": "stream",
     "text": [
      "shower\n",
      "brush teeth\n",
      "mow lawn\n",
      "eat brains\n",
      "0 Shower\n",
      "1 Brush Teeth\n",
      "2 Mow Lawn\n",
      "3 Eat Brains\n",
      "0 Shower\n",
      "1 Brush Teeth\n",
      "2 Mow Lawn\n",
      "3 Eat Brains\n",
      "0 shower\n",
      "1 brush teeth\n",
      "2 mow lawn\n",
      "3 eat brains\n",
      "0 apple\n",
      "1 banana\n",
      "2 grapes\n",
      "3 pear\n"
     ]
    }
   ],
   "source": [
    "#Misc\n",
    "todo_list = ['shower','brush teeth','mow lawn','eat brains']\n",
    "# loop over thing and without index\n",
    "for i in todo_list:\n",
    "    print(i)\n",
    "\n",
    "# Now with index this is how\n",
    "for i in range(len(todo_list)):\n",
    "    print(i, todo_list[i].title()) # this practice is done by nobe \n",
    "# you can also do it like this\n",
    "counter = 0\n",
    "for thing in todo_list:\n",
    "    print(counter, thing.title()) # this aloso works but doeing this shows you are a certified  double noob. So how do you that\n",
    "    counter += 1 \n",
    "# for this we use a python built in function enumerate \n",
    "for i, thing in enumerate(todo_list):\n",
    "    print(i, thing)\n",
    "my_list = ['apple','banana','grapes','pear']\n",
    "for counter, value in enumerate(my_list): # this shows you are a pro\n",
    "    print (counter, value)"
   ]
  },
  {
   "cell_type": "code",
   "execution_count": null,
   "id": "38c3f47a",
   "metadata": {},
   "outputs": [],
   "source": []
  }
 ],
 "metadata": {
  "kernelspec": {
   "display_name": "Python 3 (ipykernel)",
   "language": "python",
   "name": "python3"
  },
  "language_info": {
   "codemirror_mode": {
    "name": "ipython",
    "version": 3
   },
   "file_extension": ".py",
   "mimetype": "text/x-python",
   "name": "python",
   "nbconvert_exporter": "python",
   "pygments_lexer": "ipython3",
   "version": "3.9.16"
  }
 },
 "nbformat": 4,
 "nbformat_minor": 5
}
