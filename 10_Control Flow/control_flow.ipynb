{
 "cells": [
  {
   "cell_type": "code",
   "execution_count": 5,
   "id": "67d7d5be",
   "metadata": {},
   "outputs": [
    {
     "name": "stdout",
     "output_type": "stream",
     "text": [
      "Senior\n"
     ]
    }
   ],
   "source": [
    "#Conditional statements \n",
    "age = int(input(\"Enter your age: \"))\n",
    "\n",
    "if age < 18 :\n",
    "    print(\"Minor\")\n",
    "\n",
    "elif age < 65 :\n",
    "    print(\"Adult\")\n",
    "\n",
    "else :\n",
    "    print(\"Senior\")"
   ]
  },
  {
   "cell_type": "code",
   "execution_count": 7,
   "id": "385fd99f",
   "metadata": {},
   "outputs": [
    {
     "name": "stdout",
     "output_type": "stream",
     "text": [
      "positive\n",
      "odd\n"
     ]
    }
   ],
   "source": [
    "#2 Nested conditional statements \n",
    "number = int(input(\"please enter a number\"))\n",
    "\n",
    "if number > 0:\n",
    "    print(\"positive\")\n",
    "\n",
    "    if number % 2 == 0:\n",
    "        print(\"even\")\n",
    "    else:\n",
    "        print(\"odd\")\n"
   ]
  },
  {
   "cell_type": "code",
   "execution_count": 8,
   "id": "61bdfdfa",
   "metadata": {},
   "outputs": [
    {
     "name": "stdout",
     "output_type": "stream",
     "text": [
      "0\n",
      "1\n",
      "3\n",
      "4\n"
     ]
    }
   ],
   "source": [
    "#3 Breaking and continuing loops\n",
    "for i in range(5):\n",
    "    if i == 2:\n",
    "        continue #skip the number 2\n",
    "    print(i)"
   ]
  },
  {
   "cell_type": "code",
   "execution_count": 10,
   "id": "afe06d9d",
   "metadata": {},
   "outputs": [
    {
     "name": "stdout",
     "output_type": "stream",
     "text": [
      "0\n",
      "1\n",
      "2\n"
     ]
    }
   ],
   "source": [
    "for i in range(5):\n",
    "    if i == 3:\n",
    "        break #stop the loop when it reaches 2\n",
    "    print(i)"
   ]
  },
  {
   "cell_type": "code",
   "execution_count": 12,
   "id": "593f0492",
   "metadata": {},
   "outputs": [
    {
     "name": "stdout",
     "output_type": "stream",
     "text": [
      "Both conditions are true\n",
      "At least one condition is true\n"
     ]
    }
   ],
   "source": [
    "#3 Multiple conditions \n",
    "x = 10\n",
    "y = 20\n",
    "if x > 5 and y < 30:\n",
    "    print(\"Both conditions are true\")\n",
    "if x < 5 or y > 15:\n",
    "    print(\"At least one condition is true\") "
   ]
  },
  {
   "cell_type": "code",
   "execution_count": 13,
   "id": "e57b2cf9",
   "metadata": {},
   "outputs": [
    {
     "name": "stdout",
     "output_type": "stream",
     "text": [
      "Is adult: Yes\n"
     ]
    }
   ],
   "source": [
    "#4 Ternary operator\n",
    "is_adult = \"Yes\" if age >= 18 else \"No\"\n",
    "print(f\"Is adult: {is_adult}\") "
   ]
  },
  {
   "cell_type": "code",
   "execution_count": 14,
   "id": "a3df5f19",
   "metadata": {},
   "outputs": [
    {
     "name": "stdout",
     "output_type": "stream",
     "text": [
      "Banana is in the list of fruits\n"
     ]
    }
   ],
   "source": [
    "#5 Using 'in' for membership testing\n",
    "fruits = [\"apple\", \"banana\", \"cherry\"]\n",
    "if \"banana\" in fruits:\n",
    "    print(\"Banana is in the list of fruits\")"
   ]
  },
  {
   "cell_type": "code",
   "execution_count": 15,
   "id": "dd29c8fa",
   "metadata": {},
   "outputs": [
    {
     "name": "stdout",
     "output_type": "stream",
     "text": [
      "Grape is not in the list of fruits\n"
     ]
    }
   ],
   "source": [
    "#6 Using 'not' for negation\n",
    "if \"grape\" not in fruits:\n",
    "    print(\"Grape is not in the list of fruits\")"
   ]
  },
  {
   "cell_type": "code",
   "execution_count": 16,
   "id": "4790cb56",
   "metadata": {},
   "outputs": [
    {
     "name": "stdout",
     "output_type": "stream",
     "text": [
      "a and b refer to the same object\n"
     ]
    }
   ],
   "source": [
    "#7 Using 'is' for identity testing\n",
    "a = [1, 2, 3]\n",
    "b = a\n",
    "if a is b:\n",
    "    print(\"a and b refer to the same object\")"
   ]
  },
  {
   "cell_type": "code",
   "execution_count": 17,
   "id": "afddf943",
   "metadata": {},
   "outputs": [],
   "source": [
    "#8 Using 'is not' for identity negation\n",
    "if a is not b:\n",
    "    print(\"a and b do not refer to the same object\")\n"
   ]
  },
  {
   "cell_type": "code",
   "execution_count": 18,
   "id": "7fe3083f",
   "metadata": {},
   "outputs": [
    {
     "name": "stdout",
     "output_type": "stream",
     "text": [
      "Grade: F\n"
     ]
    }
   ],
   "source": [
    "#9 Using 'elif' for multiple conditions \n",
    "score = int(input(\"Enter your score: \"))\n",
    "if score >= 90:\n",
    "    print(\"Grade: A\")\n",
    "elif score >= 80:\n",
    "    print(\"Grade: B\")\n",
    "elif score >= 70:\n",
    "    print(\"Grade: C\")\n",
    "elif score >= 60:\n",
    "    print(\"Grade: D\")\n",
    "else:\n",
    "    print(\"Grade: F\")\n"
   ]
  },
  {
   "cell_type": "code",
   "execution_count": 19,
   "id": "9fe5ed29",
   "metadata": {},
   "outputs": [
    {
     "name": "stdout",
     "output_type": "stream",
     "text": [
      "Count is: 0\n",
      "Count is: 1\n",
      "Count is: 2\n",
      "Count is: 3\n",
      "Count is: 4\n"
     ]
    }
   ],
   "source": [
    "#10 Using 'while' loop with condition\n",
    "count = 0\n",
    "while count < 5:\n",
    "    print(\"Count is:\", count)\n",
    "    count += 1  \n",
    "    "
   ]
  },
  {
   "cell_type": "code",
   "execution_count": 21,
   "id": "854ea0ac",
   "metadata": {},
   "outputs": [
    {
     "name": "stdout",
     "output_type": "stream",
     "text": [
      "Invalid opton\n"
     ]
    }
   ],
   "source": [
    "#11 switch-like structure\n",
    "def switch_case(option):\n",
    "    return{\n",
    "        1: \"option 1 selected\",\n",
    "        2: \"Option 2 selected\",\n",
    "        3: \"Option 2 selected\"\n",
    "    }.get(option, \"Invalid opton\")\n",
    "print(switch_case(4))\n",
    "\n",
    "\n",
    "        \n",
    "    "
   ]
  },
  {
   "cell_type": "code",
   "execution_count": null,
   "id": "3cc849a6",
   "metadata": {},
   "outputs": [],
   "source": []
  }
 ],
 "metadata": {
  "kernelspec": {
   "display_name": "env",
   "language": "python",
   "name": "python3"
  },
  "language_info": {
   "codemirror_mode": {
    "name": "ipython",
    "version": 3
   },
   "file_extension": ".py",
   "mimetype": "text/x-python",
   "name": "python",
   "nbconvert_exporter": "python",
   "pygments_lexer": "ipython3",
   "version": "3.12.10"
  }
 },
 "nbformat": 4,
 "nbformat_minor": 5
}
