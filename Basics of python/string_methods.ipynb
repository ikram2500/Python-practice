{
 "cells": [
  {
   "cell_type": "code",
   "execution_count": 1,
   "id": "b0df1cbb",
   "metadata": {},
   "outputs": [
    {
     "name": "stdout",
     "output_type": "stream",
     "text": [
      "hello\n"
     ]
    }
   ],
   "source": [
    "#1 \n",
    "print(\"HELLO\".lower())  # Convert string to lowercase"
   ]
  },
  {
   "cell_type": "code",
   "execution_count": 2,
   "id": "0d06ee76",
   "metadata": {},
   "outputs": [
    {
     "name": "stdout",
     "output_type": "stream",
     "text": [
      "Hello world\n"
     ]
    }
   ],
   "source": [
    "print(\"hello world\".capitalize())  # Capitalize the first letter of the string"
   ]
  },
  {
   "cell_type": "code",
   "execution_count": 3,
   "id": "f31064f3",
   "metadata": {},
   "outputs": [
    {
     "name": "stdout",
     "output_type": "stream",
     "text": [
      "HELLO\n"
     ]
    }
   ],
   "source": [
    "print(\"HELLO\".upper())  # Convert string to uppercase"
   ]
  },
  {
   "cell_type": "code",
   "execution_count": 4,
   "id": "45f750cb",
   "metadata": {},
   "outputs": [
    {
     "name": "stdout",
     "output_type": "stream",
     "text": [
      "Hello World\n"
     ]
    }
   ],
   "source": [
    "print(\"hello world\".title())  # Capitalize the first letter of each word"
   ]
  },
  {
   "cell_type": "code",
   "execution_count": null,
   "id": "c386da19",
   "metadata": {},
   "outputs": [],
   "source": []
  }
 ],
 "metadata": {
  "kernelspec": {
   "display_name": "Python 3",
   "language": "python",
   "name": "python3"
  },
  "language_info": {
   "codemirror_mode": {
    "name": "ipython",
    "version": 3
   },
   "file_extension": ".py",
   "mimetype": "text/x-python",
   "name": "python",
   "nbconvert_exporter": "python",
   "pygments_lexer": "ipython3",
   "version": "3.12.10"
  }
 },
 "nbformat": 4,
 "nbformat_minor": 5
}
