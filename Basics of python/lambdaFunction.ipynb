{
 "cells": [
  {
   "cell_type": "code",
   "execution_count": null,
   "id": "8d64a0a5",
   "metadata": {},
   "outputs": [
    {
     "name": "stdout",
     "output_type": "stream",
     "text": [
      "healo\n"
     ]
    }
   ],
   "source": [
    "# lambda function is called anonymous function \n"
   ]
  },
  {
   "cell_type": "code",
   "execution_count": null,
   "id": "466cbbec",
   "metadata": {},
   "outputs": [
    {
     "data": {
      "text/plain": [
       "1"
      ]
     },
     "execution_count": 5,
     "metadata": {},
     "output_type": "execute_result"
    }
   ],
   "source": [
    "xs = [5,2,1,3,4]\n",
    "max(xs, key=lambda x: -x) #returns the minimum value in the list"
   ]
  },
  {
   "cell_type": "code",
   "execution_count": 8,
   "id": "f5ea5f97",
   "metadata": {},
   "outputs": [
    {
     "data": {
      "text/plain": [
       "(3, 6)"
      ]
     },
     "execution_count": 8,
     "metadata": {},
     "output_type": "execute_result"
    }
   ],
   "source": [
    "x1 = [(1,2), (3,4), (3,6)]\n",
    "max(x1, key = lambda x: x[1]) #returns the tuple with the maximum second element"
   ]
  },
  {
   "cell_type": "code",
   "execution_count": null,
   "id": "bc582b12",
   "metadata": {},
   "outputs": [
    {
     "name": "stdout",
     "output_type": "stream",
     "text": [
      "6\n",
      "7 <function <lambda> at 0x000002732D562700>\n"
     ]
    }
   ],
   "source": [
    "def increment(x):\n",
    "    return x+1\n",
    "\n",
    "incr = increment(5)\n",
    "print(incr)\n"
   ]
  },
  {
   "cell_type": "code",
   "execution_count": 14,
   "id": "3a875b03",
   "metadata": {},
   "outputs": [
    {
     "name": "stdout",
     "output_type": "stream",
     "text": [
      "[2, 3, 4, 5, 6]\n"
     ]
    }
   ],
   "source": [
    "# map function and lambdas\n",
    "xs = [1,2,3,4,5]\n",
    "xs = list(map(lambda x: x+1, xs)) #increment each element by 1\n",
    "print(xs)"
   ]
  },
  {
   "cell_type": "code",
   "execution_count": 17,
   "id": "b6eb3b5b",
   "metadata": {},
   "outputs": [
    {
     "name": "stdout",
     "output_type": "stream",
     "text": [
      "[1, 3, 5, 7, 9, 11, 13, 15, 17, 19, 21, 23, 25, 27, 29]\n"
     ]
    }
   ],
   "source": [
    "# Lambdas - The filter function\n",
    "xs = list(range(30))\n",
    "odd = []\n",
    "\n",
    "for x in xs:\n",
    "    if x % 2 == 1:\n",
    "        odd.append(x)\n",
    "print(odd)"
   ]
  },
  {
   "cell_type": "code",
   "execution_count": 18,
   "id": "a509a792",
   "metadata": {},
   "outputs": [
    {
     "name": "stdout",
     "output_type": "stream",
     "text": [
      "[1, 3, 5, 7, 9, 11, 13, 15, 17, 19, 21, 23, 25, 27, 29]\n"
     ]
    }
   ],
   "source": [
    "xs = list(range(30))\n",
    "odd = list(filter(lambda x: x % 2 == 1, xs)) #filters the list to only include odd numbers\n",
    "print(odd)"
   ]
  },
  {
   "cell_type": "code",
   "execution_count": 19,
   "id": "c9e3d4ae",
   "metadata": {},
   "outputs": [
    {
     "name": "stdout",
     "output_type": "stream",
     "text": [
      "[1, 3, 5, 7, 9, 11, 13, 15, 17, 19, 21, 23, 25, 27, 29]\n"
     ]
    }
   ],
   "source": [
    "odd = [x for x in xs if x % 2 == 1] #list comprehension to filter odd numbers\n",
    "print(odd)"
   ]
  },
  {
   "cell_type": "code",
   "execution_count": null,
   "id": "4896f875",
   "metadata": {},
   "outputs": [],
   "source": []
  }
 ],
 "metadata": {
  "kernelspec": {
   "display_name": "pyenv (3.12.10)",
   "language": "python",
   "name": "python3"
  },
  "language_info": {
   "codemirror_mode": {
    "name": "ipython",
    "version": 3
   },
   "file_extension": ".py",
   "mimetype": "text/x-python",
   "name": "python",
   "nbconvert_exporter": "python",
   "pygments_lexer": "ipython3",
   "version": "3.12.10"
  }
 },
 "nbformat": 4,
 "nbformat_minor": 5
}
