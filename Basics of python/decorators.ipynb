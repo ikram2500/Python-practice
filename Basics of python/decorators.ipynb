{
 "cells": [
  {
   "cell_type": "markdown",
   "id": "cc26c447",
   "metadata": {},
   "source": [
    "## 1.Basic Decorator "
   ]
  },
  {
   "cell_type": "code",
   "execution_count": 2,
   "id": "d23ffd02",
   "metadata": {},
   "outputs": [
    {
     "name": "stdout",
     "output_type": "stream",
     "text": [
      "Before the function call\n",
      "Hello, World!\n",
      "After the function call\n"
     ]
    }
   ],
   "source": [
    "def simple_decorator(passed_function):\n",
    "    def decorator1():\n",
    "        print(\"Before the function call\")\n",
    "        passed_function()\n",
    "        print(\"After the function call\")\n",
    "    return decorator1\n",
    "\n",
    "@simple_decorator\n",
    "def say_hello():\n",
    "    print(\"Hello, World!\")  \n",
    "\n",
    "say_hello()"
   ]
  },
  {
   "cell_type": "markdown",
   "id": "4b0e0c6c",
   "metadata": {},
   "source": [
    "## 2.Decorator with arguments "
   ]
  },
  {
   "cell_type": "code",
   "execution_count": 7,
   "id": "0348714c",
   "metadata": {},
   "outputs": [
    {
     "name": "stdout",
     "output_type": "stream",
     "text": [
      "Hello, Alice!\n",
      "Hello, Alice!\n",
      "Hello, Alice!\n"
     ]
    }
   ],
   "source": [
    "def repeat(n):\n",
    "    def decorator(func):\n",
    "        def wrapper(*args, **kwargs):\n",
    "            for _ in range(n):\n",
    "                func(*args, **kwargs)\n",
    "        return wrapper\n",
    "    return decorator\n",
    "@repeat(3)\n",
    "def greet(name):\n",
    "    print(f\"Hello, {name}!\")\n",
    "\n",
    "greet(\"Alice\")"
   ]
  },
  {
   "cell_type": "code",
   "execution_count": 11,
   "id": "debe1309",
   "metadata": {},
   "outputs": [
    {
     "name": "stdout",
     "output_type": "stream",
     "text": [
      "Calling add\n",
      "9\n"
     ]
    }
   ],
   "source": [
    "def log_decorator(func):\n",
    "    def wrapper(*args, **kwargs):\n",
    "        print(f\"Calling {func.__name__}\")\n",
    "        return func(*args, **kwargs)\n",
    "    return wrapper\n",
    "\n",
    "@log_decorator\n",
    "def add(a, b , c):\n",
    "    print(a + b + c)\n",
    "\n",
    "add(2, 3, 4)"
   ]
  },
  {
   "cell_type": "code",
   "execution_count": 12,
   "id": "a4db29ad",
   "metadata": {},
   "outputs": [
    {
     "name": "stdout",
     "output_type": "stream",
     "text": [
      "Done sleeping\n",
      "Time taken: 1.00080 seconds\n"
     ]
    }
   ],
   "source": [
    "import time\n",
    "\n",
    "def timer_decorator(func):\n",
    "    def wrapper(*args, **kwargs):\n",
    "        start = time.time()\n",
    "        result = func(*args, **kwargs)\n",
    "        end = time.time()\n",
    "        print(f\"Time taken: {end - start:.5f} seconds\")\n",
    "        return result\n",
    "    return wrapper\n",
    "\n",
    "@timer_decorator\n",
    "def slow_function():\n",
    "    time.sleep(1)\n",
    "    print(\"Done sleeping\")\n",
    "\n",
    "slow_function()"
   ]
  },
  {
   "cell_type": "markdown",
   "id": "992dbdcb",
   "metadata": {},
   "source": [
    "## 3. Decorator for Logging Function Calls"
   ]
  },
  {
   "cell_type": "code",
   "execution_count": null,
   "id": "2f85f77c",
   "metadata": {},
   "outputs": [
    {
     "name": "stdout",
     "output_type": "stream",
     "text": [
      "Function multiply called with arguments: (3, 4) and keyword arguments: {}\n"
     ]
    },
    {
     "data": {
      "text/plain": [
       "12"
      ]
     },
     "execution_count": 17,
     "metadata": {},
     "output_type": "execute_result"
    }
   ],
   "source": [
    "def logger_decorator(func):\n",
    "    def wrapper(*args, **kwargs):\n",
    "        print(f\"Function {func.__name__} called with arguments: {args} and keyword arguments: {kwargs}\")\n",
    "        return func(*args, **kwargs)\n",
    "    return wrapper\n",
    "\n",
    "@logger_decorator\n",
    "def multiply(x, y):\n",
    "    return x * y    \n",
    "multiply(3, 4)"
   ]
  },
  {
   "cell_type": "markdown",
   "id": "f4287883",
   "metadata": {},
   "source": [
    "## 4. Decorator for caching"
   ]
  },
  {
   "cell_type": "code",
   "execution_count": 19,
   "id": "77ad8509",
   "metadata": {},
   "outputs": [
    {
     "name": "stdout",
     "output_type": "stream",
     "text": [
      "Calculating result\n",
      "10\n",
      "Returning cached result\n",
      "10\n"
     ]
    }
   ],
   "source": [
    "def cache(func):\n",
    "    cache_data = {}\n",
    "    def wrapper(*args):\n",
    "        if args in cache_data:\n",
    "            print(\"Returning cached result\")\n",
    "            return cache_data[args]\n",
    "        else:\n",
    "            print(\"Calculating result\")\n",
    "            result = func(*args)\n",
    "            cache_data[args] = result\n",
    "            return result\n",
    "    return wrapper \n",
    "@cache\n",
    "def expensive_function(x):\n",
    "    time.sleep(2)\n",
    "    return x * 2\n",
    "print(expensive_function(5))  # First call, should take time\n",
    "print(expensive_function(5))  # Second call, should return cached result\n"
   ]
  },
  {
   "cell_type": "markdown",
   "id": "f2d3b511",
   "metadata": {},
   "source": [
    "## 5. Decorator to Uppercase Output"
   ]
  },
  {
   "cell_type": "code",
   "execution_count": 21,
   "id": "5448e96f",
   "metadata": {},
   "outputs": [
    {
     "name": "stdout",
     "output_type": "stream",
     "text": [
      "HELLO, ALICE!\n"
     ]
    }
   ],
   "source": [
    "def uppercase_decorator(func):\n",
    "    def wrapper(*args, **kwargs):\n",
    "        result = func(*args, **kwargs)\n",
    "        return result.upper()\n",
    "    return wrapper\n",
    "@uppercase_decorator\n",
    "def greet(name):\n",
    "    return f\"Hello, {name}!\"\n",
    "print(greet(\"Alice\"))  # Output: \"HELLO, ALICE!\""
   ]
  }
 ],
 "metadata": {
  "kernelspec": {
   "display_name": "env",
   "language": "python",
   "name": "python3"
  },
  "language_info": {
   "codemirror_mode": {
    "name": "ipython",
    "version": 3
   },
   "file_extension": ".py",
   "mimetype": "text/x-python",
   "name": "python",
   "nbconvert_exporter": "python",
   "pygments_lexer": "ipython3",
   "version": "3.12.10"
  }
 },
 "nbformat": 4,
 "nbformat_minor": 5
}
