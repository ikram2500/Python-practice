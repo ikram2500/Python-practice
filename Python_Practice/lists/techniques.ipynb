{
 "cells": [
  {
   "cell_type": "markdown",
   "id": "c7416614",
   "metadata": {},
   "source": [
    "## 7 Lesser-known techhniques About lists \n",
    "`by Python Coding (Clcoding)` "
   ]
  },
  {
   "cell_type": "markdown",
   "id": "711e4805",
   "metadata": {},
   "source": [
    "### 1. flatten a Nested list\n",
    "#### `flatten a deeply nested list into a single list of elements`"
   ]
  },
  {
   "cell_type": "code",
   "execution_count": 1,
   "id": "fe092f28",
   "metadata": {},
   "outputs": [
    {
     "name": "stdout",
     "output_type": "stream",
     "text": [
      "[1, 2, 3, 4, 5, 7, 8, 6]\n"
     ]
    }
   ],
   "source": [
    "\n",
    "from collections.abc import Iterable \n",
    "def flatten(list):\n",
    "    for item in list:\n",
    "        if isinstance(item, Iterable) and not isinstance(item, str):\n",
    "            yield from flatten(item)\n",
    "        else:\n",
    "            yield item \n",
    "\n",
    "nested_list = [1, [2,3], [4,5, [7,8]], 6]\n",
    "flat_list = list(flatten(nested_list))\n",
    "print(flat_list)\n"
   ]
  },
  {
   "cell_type": "markdown",
   "id": "92382194",
   "metadata": {},
   "source": [
    "#### 2. List of indices for specific values\n",
    "`Get alll indices of a specific value in a list`"
   ]
  },
  {
   "cell_type": "code",
   "execution_count": 2,
   "id": "7420def1",
   "metadata": {},
   "outputs": [
    {
     "name": "stdout",
     "output_type": "stream",
     "text": [
      "[0, 2, 4]\n"
     ]
    }
   ],
   "source": [
    "lst = [10,20,10,30,10,40]\n",
    "indices = [i for i,x in enumerate(lst) if x == 10]\n",
    "print (indices)"
   ]
  },
  {
   "cell_type": "markdown",
   "id": "322cf7aa",
   "metadata": {},
   "source": [
    "#### 3. Transpose a list of lists (Matrix)\n",
    "`Transpose a matrix-like list (switch rows and columns)`"
   ]
  },
  {
   "cell_type": "code",
   "execution_count": 3,
   "id": "50ee02dc",
   "metadata": {},
   "outputs": [
    {
     "name": "stdout",
     "output_type": "stream",
     "text": [
      "[[1, 4, 7], [2, 5, 8], [3, 6, 9]]\n"
     ]
    }
   ],
   "source": [
    "matrix = [[1,2,3],\n",
    "          [4,5,6],[7,8,9]]\n",
    "transposed = list(map(list, zip(*matrix)))\n",
    "print(transposed)"
   ]
  },
  {
   "cell_type": "markdown",
   "id": "b5f9422a",
   "metadata": {},
   "source": [
    "### 4. Rotate a list\n",
    "`Rotate the elements of a list by n positions`"
   ]
  },
  {
   "cell_type": "code",
   "execution_count": 4,
   "id": "38ea1955",
   "metadata": {},
   "outputs": [
    {
     "name": "stdout",
     "output_type": "stream",
     "text": [
      "[4, 5, 1, 2, 3]\n"
     ]
    }
   ],
   "source": [
    "def rotate(list , n ):\n",
    "    return list[-n:] + list[:-n]\n",
    "\n",
    "list =  [1,2,3,4,5]\n",
    "\n",
    "rotated_list = rotate(list, 2)\n",
    "print(rotated_list)"
   ]
  },
  {
   "cell_type": "markdown",
   "id": "2c9d42dc",
   "metadata": {},
   "source": [
    "### 5. Find duplicates in a list\n",
    "`Identify duplicate elements in a list`"
   ]
  },
  {
   "cell_type": "code",
   "execution_count": 5,
   "id": "7bd07baa",
   "metadata": {},
   "outputs": [],
   "source": [
    "from collections import Counter\n",
    "list = [1,2,3,4,4,4,5,6,6,7,7,8,9] \n",
    "duplicates = [ item for item ,count in Counter(list).items() if count == 1]"
   ]
  },
  {
   "cell_type": "markdown",
   "id": "b39fb655",
   "metadata": {},
   "source": [
    "### 6. Chunk a list\n",
    "`split a list into evenly sized chunks`"
   ]
  },
  {
   "cell_type": "markdown",
   "id": "58365d5d",
   "metadata": {},
   "source": [
    "#### 7. Remove consecutive duplicates\n",
    "`remove consecutive duplicates`"
   ]
  },
  {
   "cell_type": "code",
   "execution_count": 8,
   "id": "7bff186a",
   "metadata": {},
   "outputs": [
    {
     "name": "stdout",
     "output_type": "stream",
     "text": [
      "[1, 2, 3, 4, 5]\n"
     ]
    }
   ],
   "source": [
    "from itertools import groupby \n",
    "lst = [1,2,2,3,3,3,4,4,5]\n",
    "result = [key for key,_ in groupby(lst)]\n",
    "print(result)"
   ]
  },
  {
   "cell_type": "code",
   "execution_count": null,
   "id": "7094b940",
   "metadata": {},
   "outputs": [],
   "source": []
  }
 ],
 "metadata": {
  "kernelspec": {
   "display_name": "Python 3",
   "language": "python",
   "name": "python3"
  },
  "language_info": {
   "codemirror_mode": {
    "name": "ipython",
    "version": 3
   },
   "file_extension": ".py",
   "mimetype": "text/x-python",
   "name": "python",
   "nbconvert_exporter": "python",
   "pygments_lexer": "ipython3",
   "version": "3.12.10"
  }
 },
 "nbformat": 4,
 "nbformat_minor": 5
}
