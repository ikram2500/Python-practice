{
 "cells": [
  {
   "cell_type": "code",
   "execution_count": 1,
   "id": "628ad7b8",
   "metadata": {},
   "outputs": [
    {
     "name": "stdout",
     "output_type": "stream",
     "text": [
      "dict_items([('Bob', 25), ('Alice', 30), ('Charlie', 35)])\n"
     ]
    }
   ],
   "source": [
    "d = {\"Bob\" : 25, \"Alice\": 30, \"Charlie\": 35}\n",
    "print(d.items())"
   ]
  },
  {
   "cell_type": "code",
   "execution_count": 2,
   "id": "34484ce4",
   "metadata": {},
   "outputs": [
    {
     "name": "stdout",
     "output_type": "stream",
     "text": [
      "dict_keys(['Bob', 'Alice', 'Charlie'])\n"
     ]
    }
   ],
   "source": [
    "print(d.keys())"
   ]
  },
  {
   "cell_type": "code",
   "execution_count": 3,
   "id": "27dc95da",
   "metadata": {},
   "outputs": [
    {
     "name": "stdout",
     "output_type": "stream",
     "text": [
      "dict_values([25, 30, 35])\n"
     ]
    }
   ],
   "source": [
    "print(d.values())"
   ]
  },
  {
   "cell_type": "code",
   "execution_count": 5,
   "id": "6f00f776",
   "metadata": {},
   "outputs": [
    {
     "name": "stdout",
     "output_type": "stream",
     "text": [
      "[('Bob', 24), ('Alice', 29), ('Charlie', 34)]\n"
     ]
    }
   ],
   "source": [
    "#t = [expression , context]\n",
    "\n",
    "t = [(k, v-1) for k, v in d.items()]\n",
    "print(t)"
   ]
  },
  {
   "cell_type": "code",
   "execution_count": null,
   "id": "2a421253",
   "metadata": {},
   "outputs": [],
   "source": []
  }
 ],
 "metadata": {
  "kernelspec": {
   "display_name": "env (3.12.10)",
   "language": "python",
   "name": "python3"
  },
  "language_info": {
   "codemirror_mode": {
    "name": "ipython",
    "version": 3
   },
   "file_extension": ".py",
   "mimetype": "text/x-python",
   "name": "python",
   "nbconvert_exporter": "python",
   "pygments_lexer": "ipython3",
   "version": "3.12.10"
  }
 },
 "nbformat": 4,
 "nbformat_minor": 5
}
