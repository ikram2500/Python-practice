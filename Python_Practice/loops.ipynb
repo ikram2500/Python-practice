{
 "cells": [
  {
   "cell_type": "code",
   "execution_count": 1,
   "id": "57289b7a",
   "metadata": {},
   "outputs": [
    {
     "data": {
      "text/plain": [
       "120"
      ]
     },
     "execution_count": 1,
     "metadata": {},
     "output_type": "execute_result"
    }
   ],
   "source": [
    "import math\n",
    "math.factorial(5)"
   ]
  },
  {
   "cell_type": "code",
   "execution_count": 2,
   "id": "b20af7ee",
   "metadata": {},
   "outputs": [
    {
     "data": {
      "text/plain": [
       "20.085536923187668"
      ]
     },
     "execution_count": 2,
     "metadata": {},
     "output_type": "execute_result"
    }
   ],
   "source": [
    "math.exp(3)"
   ]
  },
  {
   "cell_type": "code",
   "execution_count": 3,
   "id": "e92f9a5d",
   "metadata": {},
   "outputs": [
    {
     "data": {
      "text/plain": [
       "16"
      ]
     },
     "execution_count": 3,
     "metadata": {},
     "output_type": "execute_result"
    }
   ],
   "source": [
    "pow(4,2)"
   ]
  },
  {
   "cell_type": "code",
   "execution_count": 4,
   "id": "e94e0613",
   "metadata": {},
   "outputs": [
    {
     "name": "stdout",
     "output_type": "stream",
     "text": [
      "\n",
      "* \n",
      "* * \n",
      "* * * \n",
      "* * * * \n"
     ]
    }
   ],
   "source": [
    "\n",
    "for i in range(5):\n",
    "    for j in range(i):\n",
    "        print ('* ', end=\"\")\n",
    "    print('')\n"
   ]
  },
  {
   "cell_type": "code",
   "execution_count": 5,
   "id": "6ca07602",
   "metadata": {},
   "outputs": [
    {
     "name": "stdout",
     "output_type": "stream",
     "text": [
      "red\n",
      "blue\n",
      "green\n",
      "white\n"
     ]
    }
   ],
   "source": [
    "color_list = ['red', 'blue', 'green', 'white']\n",
    "for c in color_list:\n",
    "    print (c)\n",
    "    "
   ]
  },
  {
   "cell_type": "code",
   "execution_count": 6,
   "id": "08065035",
   "metadata": {},
   "outputs": [
    {
     "name": "stdout",
     "output_type": "stream",
     "text": [
      "4\n",
      "5\n",
      "6\n",
      "8\n"
     ]
    }
   ],
   "source": [
    "\n",
    "num = (4,5,6,8)\n",
    "for ad in num:\n",
    "    \n",
    "    print (ad)  "
   ]
  },
  {
   "cell_type": "code",
   "execution_count": 7,
   "id": "0aa708fb",
   "metadata": {},
   "outputs": [
    {
     "name": "stdout",
     "output_type": "stream",
     "text": [
      "The sum of first 9 No: 45\n"
     ]
    }
   ],
   "source": [
    "x = 0\n",
    "s = 0\n",
    "while ( x < 10):\n",
    "    s = s + x\n",
    "    x = x + 1\n",
    "else: \n",
    "    print('The sum of first 9 No:', s)"
   ]
  },
  {
   "cell_type": "code",
   "execution_count": 8,
   "id": "7530d1d3",
   "metadata": {},
   "outputs": [
    {
     "data": {
      "text/plain": [
       "[1, 4, 3, 8, 5, 12]"
      ]
     },
     "execution_count": 8,
     "metadata": {},
     "output_type": "execute_result"
    }
   ],
   "source": [
    "x = [1, 2, 3, 4, 5, 6]\n",
    "result = []\n",
    "for idx in range(len(x)):\n",
    "    if x[idx] % 2 == 0:\n",
    "        result.append(x[idx] * 2)\n",
    "    else:\n",
    "        result.append(x[idx])\n",
    "result"
   ]
  },
  {
   "cell_type": "code",
   "execution_count": 9,
   "id": "66e8d247",
   "metadata": {},
   "outputs": [
    {
     "name": "stdout",
     "output_type": "stream",
     "text": [
      "Sum of first  5 integers is:  15\n"
     ]
    }
   ],
   "source": [
    "numbers = (1, 2, 3, 4, 5, 6, 7, 8, 9) # Declaring the tuple\n",
    "num_sum = 0\n",
    "count = 0\n",
    "for x in numbers:\n",
    "    num_sum = num_sum + x\n",
    "    count = count + 1 \n",
    "    if count == 5:\n",
    "        break\n",
    "print(\"Sum of first \",count,\"integers is: \", num_sum)\n"
   ]
  },
  {
   "cell_type": "code",
   "execution_count": 11,
   "id": "e8e8359c",
   "metadata": {},
   "outputs": [
    {
     "name": "stdout",
     "output_type": "stream",
     "text": [
      "sum of 9 integers is  45\n"
     ]
    }
   ],
   "source": [
    "list1 = [1,2,3,4,5,6,7,8,9]\n",
    "num_sum = 0\n",
    "count = 0\n",
    "for x in list1:\n",
    "    num_sum = num_sum + x\n",
    "    count = count + 1\n",
    "print(\"sum of\", count, \"integers is \", num_sum)"
   ]
  },
  {
   "cell_type": "code",
   "execution_count": 12,
   "id": "250bb7a7",
   "metadata": {},
   "outputs": [
    {
     "name": "stdout",
     "output_type": "stream",
     "text": [
      "0\n",
      "1\n",
      "2\n",
      "4\n",
      "5\n"
     ]
    }
   ],
   "source": [
    "for x in range(7):\n",
    "    if(x == 3 or x == 6):\n",
    "        continue\n",
    "    print(x)"
   ]
  },
  {
   "cell_type": "code",
   "execution_count": 15,
   "id": "0eb7af87",
   "metadata": {},
   "outputs": [
    {
     "data": {
      "text/plain": [
       "[[1, 2, 3, 4, 5, 6],\n",
       " [1, 2, 3, 4, 5, 6],\n",
       " [1, 2, 3, 4, 5, 6],\n",
       " [1, 2, 3, 4, 5, 6],\n",
       " [1, 2, 3, 4, 5, 6],\n",
       " [1, 2, 3, 4, 5, 6]]"
      ]
     },
     "execution_count": 15,
     "metadata": {},
     "output_type": "execute_result"
    }
   ],
   "source": [
    "y = [1, 2, 3, 4, 5, 6]\n",
    "result = []\n",
    "for i in y:\n",
    "   \n",
    "        result.append(y)\n",
    "    \n",
    "result"
   ]
  },
  {
   "cell_type": "code",
   "execution_count": 16,
   "id": "a2901aba",
   "metadata": {},
   "outputs": [
    {
     "data": {
      "text/plain": [
       "[0, 4, 0, 12]"
      ]
     },
     "execution_count": 16,
     "metadata": {},
     "output_type": "execute_result"
    }
   ],
   "source": [
    "y = [1,2,3,6]\n",
    "result = []\n",
    "for i in range(len(y)):\n",
    "    if y[i] % 2 == 0:\n",
    "        result.append(y[i] * 2)\n",
    "    else:\n",
    "        result.append(y[i] * 0)\n",
    "result"
   ]
  },
  {
   "cell_type": "code",
   "execution_count": 18,
   "id": "1066cdda",
   "metadata": {},
   "outputs": [
    {
     "data": {
      "text/plain": [
       "[1, 4, 3, 8, 5, 12]"
      ]
     },
     "execution_count": 18,
     "metadata": {},
     "output_type": "execute_result"
    }
   ],
   "source": [
    "x = [1, 2, 3, 4, 5, 6]\n",
    "[(e * 2 if e % 2 == 0 else e) for e in x]"
   ]
  },
  {
   "cell_type": "code",
   "execution_count": 19,
   "id": "ad7ee2cd",
   "metadata": {},
   "outputs": [
    {
     "name": "stdout",
     "output_type": "stream",
     "text": [
      "\n",
      "* \n",
      "* * \n",
      "* * * \n",
      "* * * * \n"
     ]
    }
   ],
   "source": [
    "for i in range(5):\n",
    "    for j in range(i):\n",
    "        print(\"* \", end=\"\")\n",
    "    print(\"\")"
   ]
  },
  {
   "cell_type": "code",
   "execution_count": 20,
   "id": "5ca48ee1",
   "metadata": {},
   "outputs": [
    {
     "name": "stdout",
     "output_type": "stream",
     "text": [
      "\n",
      "2 \n",
      "2 2 \n",
      "2 2 2 \n",
      "2 2 2 2 \n"
     ]
    }
   ],
   "source": [
    "for i in range(5):\n",
    "    for j in range(i):\n",
    "        print(\"2 \", end=\"\")     \n",
    "    print('')\n",
    "\n"
   ]
  },
  {
   "cell_type": "code",
   "execution_count": null,
   "id": "efd698ac",
   "metadata": {},
   "outputs": [
    {
     "name": "stdout",
     "output_type": "stream",
     "text": [
      "tech tech tech tech overlay \n",
      "overlay \n",
      "overlay \n",
      "overlay \n"
     ]
    }
   ],
   "source": [
    "\n",
    "for j in range(1,5):\n",
    "        print(\"tech \", end=\"\")\n",
    "        for i in range(1,5):\n",
    "                print(\"overlay \", end=\"\")\n",
    "                print(\"\")"
   ]
  },
  {
   "cell_type": "code",
   "execution_count": 22,
   "id": "b435afad",
   "metadata": {},
   "outputs": [
    {
     "name": "stdout",
     "output_type": "stream",
     "text": [
      "tech overlay overlay overlay overlay \n",
      "tech overlay overlay overlay overlay \n",
      "tech overlay overlay overlay overlay \n",
      "tech overlay overlay overlay overlay \n",
      "tech overlay overlay overlay overlay \n"
     ]
    }
   ],
   "source": [
    "i = 1\n",
    "while (i<=5):\n",
    "    print(\"tech \", end=\"\")\n",
    "    j = 1\n",
    "    while (j <= 4):\n",
    "        print(\"overlay \", end=\"\")\n",
    "        j += 1\n",
    "    print(\"\")\n",
    "    i += 1"
   ]
  },
  {
   "cell_type": "code",
   "execution_count": 27,
   "id": "1028f178",
   "metadata": {},
   "outputs": [
    {
     "name": "stdout",
     "output_type": "stream",
     "text": [
      "the end\n",
      "X space the end\n",
      "X space X space the end\n",
      "X space X space X space the end\n"
     ]
    }
   ],
   "source": [
    "for i in range(4):\n",
    "    for j in range(i):\n",
    "        print(\"X \" , end=\"space \")\n",
    "    print(\"the end\")\n"
   ]
  },
  {
   "cell_type": "code",
   "execution_count": 28,
   "id": "68551ed7",
   "metadata": {},
   "outputs": [
    {
     "name": "stdout",
     "output_type": "stream",
     "text": [
      "101\n",
      "103\n",
      "107\n",
      "109\n",
      "113\n",
      "127\n",
      "131\n",
      "137\n",
      "139\n",
      "149\n"
     ]
    }
   ],
   "source": [
    "for num in range(100, 150):\n",
    "    if all(num %i !=0 for i in range(2, num)):\n",
    "        print( num)"
   ]
  },
  {
   "cell_type": "code",
   "execution_count": 29,
   "id": "659487cf",
   "metadata": {},
   "outputs": [
    {
     "name": "stdout",
     "output_type": "stream",
     "text": [
      "[1, 1, 2, 2, 3, 3, 3, 3, 4, 5, 6, 11, 13, 14, 22, 33, 35, 44, 67, 233, 799]\n"
     ]
    }
   ],
   "source": [
    "l = [2,13,14,2,3,35,67,3,5,6,799,1,3,1,3,11,233,22,33,4,44]\n",
    "l.sort(reverse = False)\n",
    "print(l)"
   ]
  },
  {
   "cell_type": "code",
   "execution_count": 30,
   "id": "ea10919e",
   "metadata": {},
   "outputs": [
    {
     "name": "stdout",
     "output_type": "stream",
     "text": [
      "[3, 2, 1, 0]\n"
     ]
    }
   ],
   "source": [
    "l1 = [2,3,1,0]\n",
    "new_list = []\n",
    "while l1:\n",
    "    minimum = l1[0]\n",
    "    for x in l1:\n",
    "        if x > minimum:\n",
    "             minimum = x\n",
    "    new_list.append(minimum)\n",
    "    l1.remove(minimum)\n",
    "print(new_list)\n"
   ]
  },
  {
   "cell_type": "code",
   "execution_count": 31,
   "id": "df4da19a",
   "metadata": {},
   "outputs": [
    {
     "name": "stdout",
     "output_type": "stream",
     "text": [
      "your transaction list is:  3\n",
      "your transaction list is:  4\n",
      "your transaction list is:  5\n",
      "your transaction list is:  5\n",
      "your transaction list is:  6\n",
      "your transaction list is:  4\n"
     ]
    }
   ],
   "source": [
    "transaction = [3,4,5,5,6,4]\n",
    "for x in transaction:\n",
    "    print(\"your transaction list is: \",x)"
   ]
  },
  {
   "cell_type": "code",
   "execution_count": 35,
   "id": "ba411382",
   "metadata": {},
   "outputs": [
    {
     "name": "stdout",
     "output_type": "stream",
     "text": [
      "abdusalam\n"
     ]
    }
   ],
   "source": [
    "j=1\n",
    "while (True):\n",
    "    print('abdusalam')\n",
    "    j += 1\n",
    "    break"
   ]
  },
  {
   "cell_type": "code",
   "execution_count": null,
   "id": "31a784fb",
   "metadata": {},
   "outputs": [],
   "source": []
  },
  {
   "cell_type": "code",
   "execution_count": null,
   "id": "b1b31c00",
   "metadata": {},
   "outputs": [],
   "source": []
  }
 ],
 "metadata": {
  "kernelspec": {
   "display_name": "Python 3 (ipykernel)",
   "language": "python",
   "name": "python3"
  },
  "language_info": {
   "codemirror_mode": {
    "name": "ipython",
    "version": 3
   },
   "file_extension": ".py",
   "mimetype": "text/x-python",
   "name": "python",
   "nbconvert_exporter": "python",
   "pygments_lexer": "ipython3",
   "version": "3.11.4"
  }
 },
 "nbformat": 4,
 "nbformat_minor": 5
}
