{
 "cells": [
  {
   "cell_type": "markdown",
   "id": "0226ffe5",
   "metadata": {},
   "source": [
    "# clcoding.com\n",
    "# Pythoncoding youTube channel"
   ]
  },
  {
   "cell_type": "code",
   "execution_count": null,
   "id": "35b9fd5a",
   "metadata": {},
   "outputs": [
    {
     "name": "stdout",
     "output_type": "stream",
     "text": [
      "Hello, World!\n"
     ]
    }
   ],
   "source": [
    "#1 Level Basic Function\n",
    "def my_func():\n",
    "    print(\"Hello, World!\")\n",
    "my_func()"
   ]
  },
  {
   "cell_type": "code",
   "execution_count": 3,
   "id": "afc64730",
   "metadata": {},
   "outputs": [
    {
     "name": "stdout",
     "output_type": "stream",
     "text": [
      "Hello, Alice!\n"
     ]
    }
   ],
   "source": [
    "#2 Level Function with Parameters\n",
    "def greet(name):\n",
    "    print(f\"Hello, {name}!\")\n",
    "greet(\"Alice\")"
   ]
  },
  {
   "cell_type": "code",
   "execution_count": 5,
   "id": "7c5268b7",
   "metadata": {},
   "outputs": [
    {
     "name": "stdout",
     "output_type": "stream",
     "text": [
      "8\n"
     ]
    }
   ],
   "source": [
    "#3 Level Function with Return Value\n",
    "def add(a, b):\n",
    "    return a + b\n",
    "\n",
    "result = add(5, 3)\n",
    "print(result)"
   ]
  },
  {
   "cell_type": "code",
   "execution_count": 6,
   "id": "11a59271",
   "metadata": {},
   "outputs": [
    {
     "name": "stdout",
     "output_type": "stream",
     "text": [
      "Hello, Guest!\n",
      "Hello, Alice!\n"
     ]
    }
   ],
   "source": [
    "#4 Level Function with Default Parameters\n",
    "def greet_with_default(name=\"Guest\"):\n",
    "    print(f\"Hello, {name}!\")\n",
    "\n",
    "greet_with_default()\n",
    "greet_with_default(\"Alice\")"
   ]
  },
  {
   "cell_type": "code",
   "execution_count": 9,
   "id": "d8ede0f5",
   "metadata": {},
   "outputs": [
    {
     "name": "stdout",
     "output_type": "stream",
     "text": [
      "The total sum is: 15\n"
     ]
    }
   ],
   "source": [
    "# 5 Level Function with Variable Number of Arguments\n",
    "def sum_all(*args):\n",
    "    return sum(args)\n",
    "\n",
    "result = sum_all(1, 2, 3, 4, 5)\n",
    "print(f\"The total sum is: {result}\")"
   ]
  },
  {
   "cell_type": "code",
   "execution_count": 10,
   "id": "cfe03914",
   "metadata": {},
   "outputs": [
    {
     "name": "stdout",
     "output_type": "stream",
     "text": [
      "The total sum is: 60\n"
     ]
    }
   ],
   "source": [
    "result = sum_all(10, 20, 30)\n",
    "print(f\"The total sum is: {result}\")"
   ]
  },
  {
   "cell_type": "code",
   "execution_count": 11,
   "id": "a7f713e7",
   "metadata": {},
   "outputs": [
    {
     "name": "stdout",
     "output_type": "stream",
     "text": [
      "name: Alice\n",
      "age: 30\n",
      "city: New York\n",
      "name: Bob\n",
      "age: 25\n",
      "country: USA\n",
      "occupation: Engineer\n",
      "hobbies: ['reading', 'traveling']\n"
     ]
    }
   ],
   "source": [
    "# function variable keyword arguments\n",
    "def print_info(**kwargs):\n",
    "    for key, value in kwargs.items():\n",
    "        print(f\"{key}: {value}\")    \n",
    "print_info(name=\"Alice\", age=30, city=\"New York\")\n",
    "print_info(name=\"Bob\", age=25, country=\"USA\", occupation=\"Engineer\", hobbies=[\"reading\", \"traveling\"])"
   ]
  },
  {
   "cell_type": "code",
   "execution_count": 12,
   "id": "1e12b56f",
   "metadata": {},
   "outputs": [
    {
     "name": "stdout",
     "output_type": "stream",
     "text": [
      "Name: Alice, Age: 30\n"
     ]
    }
   ],
   "source": [
    "# 6 Level Function with Keyword Arguments\n",
    "def print_info(name, age):\n",
    "    print(f\"Name: {name}, Age: {age}\")\n",
    "\n",
    "print_info(name=\"Alice\", age=30) "
   ]
  },
  {
   "cell_type": "code",
   "execution_count": 13,
   "id": "57f12db4",
   "metadata": {},
   "outputs": [
    {
     "name": "stdout",
     "output_type": "stream",
     "text": [
      "The square of 4 is: 16\n"
     ]
    }
   ],
   "source": [
    "# 7 Level Function with Lambda Expression\n",
    "square = lambda x: x * x    \n",
    "print(f\"The square of 4 is: {square(4)}\")"
   ]
  },
  {
   "cell_type": "code",
   "execution_count": 14,
   "id": "0d251f6e",
   "metadata": {},
   "outputs": [
    {
     "name": "stdout",
     "output_type": "stream",
     "text": [
      "The result of the outer function is: 25\n"
     ]
    }
   ],
   "source": [
    "# 8 Level Function with Nested Functions\n",
    "def outer_function(x):\n",
    "    def inner_function(y):\n",
    "        return y * y\n",
    "    return inner_function(x)\n",
    "result = outer_function(5)\n",
    "print(f\"The result of the outer function is: {result}\") "
   ]
  },
  {
   "cell_type": "code",
   "execution_count": 15,
   "id": "57674e4c",
   "metadata": {},
   "outputs": [
    {
     "name": "stdout",
     "output_type": "stream",
     "text": [
      "Something is happening before the function is called.\n",
      "Hello!\n",
      "Something is happening after the function is called.\n"
     ]
    }
   ],
   "source": [
    "# 9 Level Function with Decorators\n",
    "def decorator_function(func):\n",
    "    def wrapper():\n",
    "        print(\"Something is happening before the function is called.\")\n",
    "        func()\n",
    "        print(\"Something is happening after the function is called.\")\n",
    "    return wrapper\n",
    "@decorator_function\n",
    "def say_hello():\n",
    "    print(\"Hello!\")\n",
    "say_hello()"
   ]
  },
  {
   "cell_type": "code",
   "execution_count": 1,
   "id": "2f14d928",
   "metadata": {},
   "outputs": [
    {
     "name": "stdout",
     "output_type": "stream",
     "text": [
      "The factorial of 5 is: 120\n"
     ]
    }
   ],
   "source": [
    "# 10 Level Function with Recursion\n",
    "def factorial(n):\n",
    "    if n == 0:\n",
    "        return 1\n",
    "    else:\n",
    "        return n * factorial(n - 1)\n",
    "result = factorial(5)\n",
    "print(f\"The factorial of 5 is: {result}\")"
   ]
  },
  {
   "cell_type": "code",
   "execution_count": 2,
   "id": "d606a88d",
   "metadata": {},
   "outputs": [
    {
     "name": "stdout",
     "output_type": "stream",
     "text": [
      "The product of 3 and 4 is: 12\n"
     ]
    }
   ],
   "source": [
    "\n",
    "# 11 Level Function with Type Hints\n",
    "def multiply(a: int, b: int) -> int:\n",
    "    return a * b\n",
    "result = multiply(3, 4)\n",
    "print(f\"The product of 3 and 4 is: {result}\")"
   ]
  },
  {
   "cell_type": "code",
   "execution_count": 3,
   "id": "c7090312",
   "metadata": {},
   "outputs": [
    {
     "name": "stdout",
     "output_type": "stream",
     "text": [
      "Integer: 10, String: Hello\n",
      "None\n"
     ]
    }
   ],
   "source": [
    "\n",
    "# 12 Level Function with Annotations\n",
    "def annotated_function(x: int, y: str) -> None:\n",
    "    print(f\"Integer: {x}, String: {y}\")\n",
    "\n",
    "print(annotated_function(10, \"Hello\"))\n"
   ]
  },
  {
   "cell_type": "code",
   "execution_count": 5,
   "id": "04c83766",
   "metadata": {},
   "outputs": [
    {
     "name": "stdout",
     "output_type": "stream",
     "text": [
      "\n",
      "    This function demonstrates the use of a docstring.\n",
      "    It does nothing but serves as an example.\n",
      "    \n"
     ]
    }
   ],
   "source": [
    "# 13 Level Function with Docstrings\n",
    "def docstring_example():\n",
    "    \"\"\"\n",
    "    This function demonstrates the use of a docstring.\n",
    "    It does nothing but serves as an example.\n",
    "    \"\"\"\n",
    "    pass\n",
    "print(docstring_example.__doc__)"
   ]
  },
  {
   "cell_type": "code",
   "execution_count": 6,
   "id": "8e7b56af",
   "metadata": {},
   "outputs": [
    {
     "name": "stdout",
     "output_type": "stream",
     "text": [
      "Global variable modified to: 15\n"
     ]
    }
   ],
   "source": [
    "# 14 Level Function with Global Variables\n",
    "global_var = 10\n",
    "def modify_global():\n",
    "    global global_var\n",
    "    global_var += 5\n",
    "    print(f\"Global variable modified to: {global_var}\")\n",
    "\n",
    "modify_global()"
   ]
  },
  {
   "cell_type": "code",
   "execution_count": 7,
   "id": "12a66641",
   "metadata": {},
   "outputs": [
    {
     "name": "stdout",
     "output_type": "stream",
     "text": [
      "Nonlocal variable modified to: 30\n"
     ]
    }
   ],
   "source": [
    " #15 Level Function with Nonlocal Variables\n",
    "def outer():\n",
    "    nonlocal_var = 20\n",
    "    def inner():\n",
    "        nonlocal nonlocal_var\n",
    "        nonlocal_var += 10\n",
    "        print(f\"Nonlocal variable modified to: {nonlocal_var}\")\n",
    "    inner()\n",
    "\n",
    "outer()"
   ]
  },
  {
   "cell_type": "code",
   "execution_count": null,
   "id": "31d40c06",
   "metadata": {},
   "outputs": [],
   "source": []
  },
  {
   "cell_type": "code",
   "execution_count": 8,
   "id": "9ce9a3e6",
   "metadata": {},
   "outputs": [
    {
     "name": "stdout",
     "output_type": "stream",
     "text": [
      "The double of 5 is: 10\n"
     ]
    }
   ],
   "source": [
    "\n",
    "# 16 Level Function with Closures\n",
    "def make_multiplier(factor):\n",
    "    def multiplier(x):\n",
    "        return x * factor\n",
    "    return multiplier\n",
    "double = make_multiplier(2)\n",
    "print(f\"The double of 5 is: {double(5)}\")"
   ]
  },
  {
   "cell_type": "code",
   "execution_count": 9,
   "id": "75c59fd5",
   "metadata": {},
   "outputs": [
    {
     "name": "stdout",
     "output_type": "stream",
     "text": [
      "Generator yielded: 0\n",
      "Generator yielded: 1\n",
      "Generator yielded: 2\n",
      "Generator yielded: 3\n",
      "Generator yielded: 4\n"
     ]
    }
   ],
   "source": [
    "# 17 Level Function with Generators\n",
    "def simple_generator():\n",
    "    yield from range(5)\n",
    "for value in simple_generator():\n",
    "    print(f\"Generator yielded: {value}\")"
   ]
  },
  {
   "cell_type": "code",
   "execution_count": 10,
   "id": "69b805ed",
   "metadata": {},
   "outputs": [
    {
     "name": "stdout",
     "output_type": "stream",
     "text": [
      "Iterator yielded: 0\n",
      "Iterator yielded: 1\n",
      "Iterator yielded: 2\n",
      "Iterator yielded: 3\n",
      "Iterator yielded: 4\n"
     ]
    }
   ],
   "source": [
    "# 18 Level Function with Iterators\n",
    "class SimpleIterator:\n",
    "    def __init__(self, max):\n",
    "        self.max = max\n",
    "        self.current = 0\n",
    "\n",
    "    def __iter__(self):\n",
    "        return self\n",
    "\n",
    "    def __next__(self):\n",
    "        if self.current < self.max:\n",
    "            value = self.current\n",
    "            self.current += 1\n",
    "            return value\n",
    "        else:\n",
    "            raise StopIteration\n",
    "for value in SimpleIterator(5):\n",
    "    print(f\"Iterator yielded: {value}\")"
   ]
  },
  {
   "cell_type": "code",
   "execution_count": 11,
   "id": "d2d7de4f",
   "metadata": {},
   "outputs": [
    {
     "name": "stdout",
     "output_type": "stream",
     "text": [
      "Acquiring resource\n",
      "Using resource\n",
      "Releasing resource\n"
     ]
    }
   ],
   "source": [
    "\n",
    "\n",
    "\n",
    "# 19 Level Function with Context Managers\n",
    "from contextlib import contextmanager\n",
    "\n",
    "@contextmanager\n",
    "def managed_resource():\n",
    "    print(\"Acquiring resource\")\n",
    "    yield\n",
    "    print(\"Releasing resource\")\n",
    "\n",
    "with managed_resource():\n",
    "    print(\"Using resource\")\n",
    "# 20 Level Function with Asyncio\n",
    "\n",
    "# 22 Level Function with Function Annotations"
   ]
  },
  {
   "cell_type": "code",
   "execution_count": null,
   "id": "2fc07a63",
   "metadata": {},
   "outputs": [],
   "source": []
  }
 ],
 "metadata": {
  "kernelspec": {
   "display_name": "Python 3",
   "language": "python",
   "name": "python3"
  },
  "language_info": {
   "codemirror_mode": {
    "name": "ipython",
    "version": 3
   },
   "file_extension": ".py",
   "mimetype": "text/x-python",
   "name": "python",
   "nbconvert_exporter": "python",
   "pygments_lexer": "ipython3",
   "version": "3.12.10"
  }
 },
 "nbformat": 4,
 "nbformat_minor": 5
}
