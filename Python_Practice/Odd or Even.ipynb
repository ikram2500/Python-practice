{
 "cells": [
  {
   "cell_type": "code",
   "execution_count": 2,
   "id": "d2faf43f",
   "metadata": {},
   "outputs": [
    {
     "data": {
      "text/plain": [
       "2"
      ]
     },
     "execution_count": 2,
     "metadata": {},
     "output_type": "execute_result"
    }
   ],
   "source": [
    "5 % 3\n"
   ]
  },
  {
   "cell_type": "code",
   "execution_count": 3,
   "id": "f98ed012",
   "metadata": {},
   "outputs": [
    {
     "data": {
      "text/plain": [
       "0"
      ]
     },
     "execution_count": 3,
     "metadata": {},
     "output_type": "execute_result"
    }
   ],
   "source": [
    "6%3"
   ]
  },
  {
   "cell_type": "code",
   "execution_count": 22,
   "id": "566e3e55",
   "metadata": {},
   "outputs": [
    {
     "name": "stdout",
     "output_type": "stream",
     "text": [
      "Enter a number: 23\n",
      "can only see rated PG movies\n"
     ]
    }
   ],
   "source": [
    "user_num = int(input(\"Enter a number: \"))\n",
    "\n",
    "if age > 17:   print(\"can see a rated R movie\")\n",
    "elif age < 17 and age > 12:  print(\"can see a rated PG-13 movie\")\n",
    "else:   print(\"can only see rated PG movies\")"
   ]
  },
  {
   "cell_type": "code",
   "execution_count": 19,
   "id": "f0bb15fc",
   "metadata": {},
   "outputs": [
    {
     "name": "stdout",
     "output_type": "stream",
     "text": [
      "the variable does not have the value 3\n"
     ]
    }
   ],
   "source": [
    "  a = 4\n",
    "if a == 3:   print(\"the variable has the value 3\")\n",
    "elif a != 3:  print(\"the variable does not have the value 3\")"
   ]
  },
  {
   "cell_type": "code",
   "execution_count": 20,
   "id": "0042892c",
   "metadata": {},
   "outputs": [
    {
     "name": "stdout",
     "output_type": "stream",
     "text": [
      "the variable does not have the value 3\n"
     ]
    }
   ],
   "source": [
    "a=4\n",
    "if a == 3:   print(\"the variable has the value 3\")\n",
    "else:  print(\"the variable does not have the value 3\")"
   ]
  },
  {
   "cell_type": "code",
   "execution_count": 2,
   "id": "44c011de",
   "metadata": {},
   "outputs": [
    {
     "name": "stdout",
     "output_type": "stream",
     "text": [
      "Enter a number: 24\n",
      "The number 24 is even and is divisible by 4.\n"
     ]
    }
   ],
   "source": [
    "user_num = int(input(\"Enter a number: \"))\n",
    "def oddoreven(number):\n",
    "    if number % 2 == 0 and number % 4 !=0:\n",
    "        print(f\"The number {number} is even.\")\n",
    "    elif number % 2 == 0 and number % 4 == 0:\n",
    "        print(f\"The number {number} is even and is divisible by 4.\")\n",
    "    else:\n",
    "        print(f\"The number {number} is odd.\")\n",
    "oddoreven(user_num)"
   ]
  },
  {
   "cell_type": "markdown",
   "id": "863a506e",
   "metadata": {},
   "source": [
    "# List Less Than Ten"
   ]
  },
  {
   "cell_type": "code",
   "execution_count": 34,
   "id": "dd5f1fee",
   "metadata": {},
   "outputs": [
    {
     "name": "stdout",
     "output_type": "stream",
     "text": [
      "[1, 1, 2, 3]\n",
      "Give a number: 20\n",
      "1\n",
      "1\n",
      "2\n",
      "3\n",
      "5\n",
      "8\n",
      "13\n"
     ]
    }
   ],
   "source": [
    "a = [1, 1, 2, 3, 5, 8, 13, 21, 34, 55, 89]\n",
    "b = []\n",
    "for x in a:\n",
    "    if x < 5:\n",
    "        b.append(x)\n",
    "print(b)\n",
    "\n",
    "num= int(input(\"Give a number: \"))\n",
    "for x in a:\n",
    "    if x<num: \n",
    "        print(x)"
   ]
  },
  {
   "cell_type": "markdown",
   "id": "aec8cba5",
   "metadata": {},
   "source": [
    "# Creating a Character Input\n",
    "https://www.practicepython.org/solution/2014/02/05/01-character-input-solutions.html"
   ]
  },
  {
   "cell_type": "code",
   "execution_count": 41,
   "id": "a8a72805",
   "metadata": {},
   "outputs": [
    {
     "name": "stdout",
     "output_type": "stream",
     "text": [
      "Enter your name:ikram\n",
      "What is your age38\n",
      "you turn 100 year old in 2084\n"
     ]
    }
   ],
   "source": [
    "user_name = input(\"Enter your name:\")\n",
    "user_age = int(input(\"What is your age\"))\n",
    "\n",
    "mature = 100 - user_age\n",
    "print(\"you turn 100 year old in \" +  str(mature + 2022) )"
   ]
  },
  {
   "cell_type": "markdown",
   "id": "01c8c036",
   "metadata": {},
   "source": [
    "\n",
    "# Divisors\n",
    "Reference https://www.practicepython.org/exercise/2014/02/26/04-divisors.html"
   ]
  },
  {
   "cell_type": "code",
   "execution_count": 38,
   "id": "8ef494a6",
   "metadata": {},
   "outputs": [
    {
     "name": "stdout",
     "output_type": "stream",
     "text": [
      "2\n",
      "3\n",
      "4\n",
      "5\n",
      "6\n",
      "7\n",
      "8\n",
      "9\n",
      "10\n"
     ]
    }
   ],
   "source": [
    "for x in range(2,11):\n",
    "    print(x) "
   ]
  },
  {
   "cell_type": "code",
   "execution_count": 7,
   "id": "749b16c4",
   "metadata": {
    "collapsed": true
   },
   "outputs": [
    {
     "ename": "SyntaxError",
     "evalue": "invalid syntax (3457849653.py, line 1)",
     "output_type": "error",
     "traceback": [
      "\u001b[1;36m  Input \u001b[1;32mIn [7]\u001b[1;36m\u001b[0m\n\u001b[1;33m    for elem in x\u001b[0m\n\u001b[1;37m                  ^\u001b[0m\n\u001b[1;31mSyntaxError\u001b[0m\u001b[1;31m:\u001b[0m invalid syntax\n"
     ]
    }
   ],
   "source": [
    "for elem in x \n",
    "print (elem)"
   ]
  },
  {
   "cell_type": "code",
   "execution_count": 23,
   "id": "449dd41e",
   "metadata": {},
   "outputs": [
    {
     "name": "stdout",
     "output_type": "stream",
     "text": [
      "num:10\n",
      "[]\n",
      "[]\n",
      "[]\n",
      "[]\n",
      "[]\n",
      "[]\n",
      "[]\n",
      "[]\n",
      "[]\n",
      "[10]\n"
     ]
    }
   ],
   "source": [
    "x=int(input(\"num:\"))\n",
    "y=[]\n",
    "for num in list(range(1,x+1)):\n",
    "        if num%x==0:\n",
    "            y.append(num)\n",
    "        print(y)"
   ]
  },
  {
   "cell_type": "code",
   "execution_count": 4,
   "id": "8c0722a0",
   "metadata": {},
   "outputs": [
    {
     "name": "stdout",
     "output_type": "stream",
     "text": [
      "Enter your number: 20\n",
      "[1, 2, 4, 5, 10, 20]\n"
     ]
    }
   ],
   "source": [
    "n = int(input(\"Enter your number: \"))\n",
    "dList = []\n",
    "for i in range(1, n+1):\n",
    "        if n % i == 0:\n",
    "            dList.append(i)\n",
    "print(dList)\n"
   ]
  },
  {
   "cell_type": "code",
   "execution_count": 1,
   "id": "eabfaf30",
   "metadata": {},
   "outputs": [
    {
     "name": "stdout",
     "output_type": "stream",
     "text": [
      "Enter a word: ikram\n",
      "It is palindrome\n",
      "It is not palindrome\n",
      "It is not palindrome\n",
      "It is not palindrome\n",
      "It is not palindrome\n"
     ]
    }
   ],
   "source": [
    "word = input(\"Enter a word: \").lower()\n",
    "text= ''\n",
    "for el in word:\n",
    "    if el.isalpha():\n",
    "        text+=el\n",
    "    if text== text[::-1]:\n",
    "        print(\"It is palindrome\")\n",
    "    else:\n",
    "        print(\"It is not palindrome\")"
   ]
  },
  {
   "cell_type": "code",
   "execution_count": 3,
   "id": "50247c6a",
   "metadata": {},
   "outputs": [
    {
     "data": {
      "text/plain": [
       "[10, 15, 20]"
      ]
     },
     "execution_count": 3,
     "metadata": {},
     "output_type": "execute_result"
    }
   ],
   "source": [
    "a = [5, 10, 15, 20, 25, 30, 35, 40]\n",
    "a[1:4]"
   ]
  },
  {
   "cell_type": "code",
   "execution_count": 4,
   "id": "029f3b35",
   "metadata": {},
   "outputs": [
    {
     "data": {
      "text/plain": [
       "[5, 10, 15, 20, 25, 30, 35, 40]"
      ]
     },
     "execution_count": 4,
     "metadata": {},
     "output_type": "execute_result"
    }
   ],
   "source": [
    "a[:]"
   ]
  },
  {
   "cell_type": "code",
   "execution_count": 16,
   "id": "4827569f",
   "metadata": {},
   "outputs": [
    {
     "data": {
      "text/plain": [
       "[30, 25, 20]"
      ]
     },
     "execution_count": 16,
     "metadata": {},
     "output_type": "execute_result"
    }
   ],
   "source": [
    "a[5:2:-1]"
   ]
  },
  {
   "cell_type": "code",
   "execution_count": 4,
   "id": "aa723237",
   "metadata": {},
   "outputs": [
    {
     "name": "stdout",
     "output_type": "stream",
     "text": [
      "e\n",
      "x\n",
      "a\n",
      "m\n",
      "p\n",
      "l\n",
      "e\n"
     ]
    }
   ],
   "source": [
    "string = \"example\"\n",
    "\n",
    "for el in string: \n",
    "    print(el)"
   ]
  },
  {
   "cell_type": "code",
   "execution_count": 6,
   "id": "4d42ea85",
   "metadata": {},
   "outputs": [
    {
     "name": "stdout",
     "output_type": "stream",
     "text": [
      "b'Bytes objects are immutable sequences of single bytes'\n"
     ]
    }
   ],
   "source": [
    "x = b\"Bytes objects are immutable sequences of single bytes\"\n",
    "print(x)"
   ]
  },
  {
   "cell_type": "code",
   "execution_count": 15,
   "id": "c2050a37",
   "metadata": {},
   "outputs": [
    {
     "name": "stdout",
     "output_type": "stream",
     "text": [
      "b'Python Tutorial\\nJavascript Tutorial\\nMySQL Tutorial'\n"
     ]
    }
   ],
   "source": [
    "\n",
    "x = b'''Python Tutorial\n",
    "Javascript Tutorial\n",
    "MySQL Tutorial'''\n",
    "print(x)\n"
   ]
  },
  {
   "cell_type": "code",
   "execution_count": null,
   "id": "47caf3ad",
   "metadata": {},
   "outputs": [],
   "source": []
  },
  {
   "cell_type": "code",
   "execution_count": null,
   "id": "b1233529",
   "metadata": {},
   "outputs": [],
   "source": []
  }
 ],
 "metadata": {
  "kernelspec": {
   "display_name": "Python 3 (ipykernel)",
   "language": "python",
   "name": "python3"
  },
  "language_info": {
   "codemirror_mode": {
    "name": "ipython",
    "version": 3
   },
   "file_extension": ".py",
   "mimetype": "text/x-python",
   "name": "python",
   "nbconvert_exporter": "python",
   "pygments_lexer": "ipython3",
   "version": "3.9.12"
  }
 },
 "nbformat": 4,
 "nbformat_minor": 5
}
