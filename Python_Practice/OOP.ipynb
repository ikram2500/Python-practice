{
 "cells": [
  {
   "cell_type": "code",
   "execution_count": 1,
   "metadata": {},
   "outputs": [
    {
     "name": "stdout",
     "output_type": "stream",
     "text": [
      "Name:  Waqas , Salary:  100000\n"
     ]
    }
   ],
   "source": [
    "class Employee():\n",
    "    def __init__(self, name, salary):\n",
    "        self.name = name\n",
    "        self.salary = salary\n",
    "\n",
    "    def display(self):\n",
    "        print(\"Name: \", self.name, \", Salary: \", self.salary)\n",
    "\n",
    "waqas = Employee(\"Waqas\", 100000)\n",
    "waqas.display()"
   ]
  },
  {
   "cell_type": "code",
   "execution_count": 3,
   "metadata": {},
   "outputs": [
    {
     "data": {
      "text/plain": [
       "('Jump is a van blue worth $10000.00.',\n",
       " 'suzuki is a convertible red worth $60000.00.')"
      ]
     },
     "execution_count": 3,
     "metadata": {},
     "output_type": "execute_result"
    }
   ],
   "source": [
    "# define the Vehicle class\n",
    "class Vehicle():\n",
    "    def __init__(self, name, kind, color, value):\n",
    "        self.name = name\n",
    "        self.kind = kind\n",
    "        self.color = color\n",
    "        self. value = value\n",
    "    def description(self):\n",
    "        desc_str = \"%s is a %s %s worth $%.2f.\" % (self.name, self.color, self.kind, self.value)\n",
    "        return desc_str\n",
    "\n",
    "# your code goes here\n",
    "car1 = Vehicle(\"suzuki\", \"red\",\"convertible\",60000)\n",
    "\n",
    "\n",
    "car2 = Vehicle(\"Jump\",\"blue\",\"van\",10000)\n",
    "\n",
    "\n",
    "car2.description(), car1.description()\n",
    "# test code"
   ]
  },
  {
   "cell_type": "code",
   "execution_count": 5,
   "metadata": {},
   "outputs": [],
   "source": [
    "#Inheritance\n",
    "#Inheritance allows us to define a class that inherits all the methods and properties from another class. \n",
    "# 1.single inheritance\n",
    "class Vehcle():\n",
    "    def __init__(self, make, model, year):\n",
    "        self.make = make\n",
    "        self.model = model\n",
    "        self.year = year\n",
    "\n",
    "    def display(self):\n",
    "        print(\"Make: \", self.make, \", Model: \", self.model, \", Year: \", self.year)"
   ]
  },
  {
   "cell_type": "code",
   "execution_count": 6,
   "metadata": {},
   "outputs": [
    {
     "name": "stdout",
     "output_type": "stream",
     "text": [
      "Make:  Toyota , Model:  Corolla , Year:  2015\n"
     ]
    }
   ],
   "source": [
    "c1 = Vehcle(\"Toyota\", \"Corolla\", 2015)\n",
    "c1.display()"
   ]
  },
  {
   "cell_type": "code",
   "execution_count": 7,
   "metadata": {},
   "outputs": [],
   "source": [
    "#Inheritance including parent class\n",
    "class Car(Vehcle):\n",
    "    def car(self):\n",
    "        print(\"This is a car class from child class\")"
   ]
  },
  {
   "cell_type": "code",
   "execution_count": 8,
   "metadata": {},
   "outputs": [
    {
     "name": "stdout",
     "output_type": "stream",
     "text": [
      "Make:  Toyota , Model:  Corolla , Year:  2015\n"
     ]
    }
   ],
   "source": [
    "c = Car(\"Toyota\", \"Corolla\", 2015)\n",
    "c.display()"
   ]
  },
  {
   "cell_type": "code",
   "execution_count": 9,
   "metadata": {},
   "outputs": [
    {
     "name": "stdout",
     "output_type": "stream",
     "text": [
      "This is a car class from child class\n"
     ]
    }
   ],
   "source": [
    "c.car()"
   ]
  },
  {
   "cell_type": "code",
   "execution_count": 12,
   "metadata": {},
   "outputs": [
    {
     "name": "stdout",
     "output_type": "stream",
     "text": [
      "Make:  Honda , Model:  CD70 , Year:  2018\n",
      "Color:  Red\n"
     ]
    }
   ],
   "source": [
    "# To add new property to child class and also use parent class properties we use super() method\n",
    "class Bike(Vehcle):\n",
    "    def __init__(self, make, model, year, color):\n",
    "        super().__init__(make, model, year)\n",
    "        self.color = color\n",
    "\n",
    "    def display(self):\n",
    "        super().display()\n",
    "        print(\"Color: \", self.color)\n",
    "\n",
    "b = Bike(\"Honda\", \"CD70\", 2018, \"Red\")\n",
    "b.display()"
   ]
  },
  {
   "cell_type": "code",
   "execution_count": 13,
   "metadata": {},
   "outputs": [
    {
     "name": "stdout",
     "output_type": "stream",
     "text": [
      "Name:  Waqas\n",
      "Age:  25\n"
     ]
    }
   ],
   "source": [
    "# 2.multiple inheritance\n",
    "class Parent1():\n",
    "    def __init__(self, name):\n",
    "        self.name = name\n",
    "\n",
    "    def display(self):\n",
    "        print(\"Name: \", self.name)\n",
    "\n",
    "class Parent2():\n",
    "    def __init__(self, age):\n",
    "        self.age = age\n",
    "\n",
    "    def display(self):\n",
    "        print(\"Age: \", self.age)\n",
    "\n",
    "class Child(Parent1, Parent2):\n",
    "    def __init__(self, name, age):\n",
    "        Parent1.__init__(self, name)\n",
    "        Parent2.__init__(self, age)\n",
    "\n",
    "    def display(self):\n",
    "        Parent1.display(self)\n",
    "        Parent2.display(self)\n",
    "\n",
    "\n",
    "c = Child(\"Waqas\", 25)\n",
    "c.display()"
   ]
  },
  {
   "cell_type": "code",
   "execution_count": 15,
   "metadata": {},
   "outputs": [
    {
     "name": "stdout",
     "output_type": "stream",
     "text": [
      "Name:  Waqas\n",
      "Age:  25\n"
     ]
    }
   ],
   "source": [
    "#3. Multilevel inheritance\n",
    "\n",
    "class Parent():\n",
    "    def __init__(self, name):\n",
    "        self.name = name\n",
    "\n",
    "    def display(self):\n",
    "        print(\"Name: \", self.name)\n",
    "\n",
    "class Child(Parent):\n",
    "    def __init__(self, name, age):\n",
    "        super().__init__(name)\n",
    "        self.age = age\n",
    "\n",
    "    def display(self):\n",
    "        super().display()\n",
    "        print(\"Age: \", self.age)\n",
    "\n",
    "class GrandChild(Child):\n",
    "    def __init__(self):\n",
    "        super().__init__(\"Waqas\", 25)\n",
    "    \n",
    "    def display(self):\n",
    "        super().display()\n",
    "\n",
    "gc = GrandChild()\n",
    "gc.display()\n",
    "\n"
   ]
  },
  {
   "cell_type": "code",
   "execution_count": null,
   "metadata": {},
   "outputs": [],
   "source": [
    "#4. Hierarchical inheritance"
   ]
  }
 ],
 "metadata": {
  "kernelspec": {
   "display_name": "env (3.12.10)",
   "language": "python",
   "name": "python3"
  },
  "language_info": {
   "codemirror_mode": {
    "name": "ipython",
    "version": 3
   },
   "file_extension": ".py",
   "mimetype": "text/x-python",
   "name": "python",
   "nbconvert_exporter": "python",
   "pygments_lexer": "ipython3",
   "version": "3.12.10"
  }
 },
 "nbformat": 4,
 "nbformat_minor": 2
}
