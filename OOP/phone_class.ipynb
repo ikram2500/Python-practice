{
 "cells": [
  {
   "cell_type": "code",
   "execution_count": 4,
   "id": "c81e0bdf",
   "metadata": {},
   "outputs": [],
   "source": [
    "class Phone:\n",
    "    \n",
    "    def set_color(self, color):\n",
    "        self.color = color\n",
    "        \n",
    "    def set_cost(self, cost):\n",
    "        self.cost = cost\n",
    "        \n",
    "    def show_color(self):\n",
    "        return self.color\n",
    "    def show_cost(self):\n",
    "        return self.cost\n",
    "    \n",
    "    \n",
    "    def make_cal(self):\n",
    "        print('make a call')\n",
    "        \n",
    "    def play_game(self):\n",
    "        print('play game')"
   ]
  },
  {
   "cell_type": "code",
   "execution_count": 10,
   "id": "9c7006b9",
   "metadata": {},
   "outputs": [],
   "source": [
    "p1 = Phone()"
   ]
  },
  {
   "cell_type": "code",
   "execution_count": 14,
   "id": "3546b23d",
   "metadata": {},
   "outputs": [],
   "source": [
    "p1.set_color('red')"
   ]
  },
  {
   "cell_type": "code",
   "execution_count": 15,
   "id": "07e3c70b",
   "metadata": {},
   "outputs": [],
   "source": [
    "p1.set_cost(30)"
   ]
  },
  {
   "cell_type": "code",
   "execution_count": 16,
   "id": "d3a454eb",
   "metadata": {},
   "outputs": [
    {
     "data": {
      "text/plain": [
       "'red'"
      ]
     },
     "execution_count": 16,
     "metadata": {},
     "output_type": "execute_result"
    }
   ],
   "source": [
    "p1.show_color()"
   ]
  },
  {
   "cell_type": "code",
   "execution_count": 17,
   "id": "2a5171b4",
   "metadata": {},
   "outputs": [],
   "source": [
    "class Phone_with_constructor():\n",
    "    def __init__(self, color,cost):\n",
    "        self.color = color,\n",
    "        self.cost = cost\n",
    "    def make_cal(self):\n",
    "        print('make a call')\n",
    "    def play_game(self):\n",
    "        print('play game')"
   ]
  },
  {
   "cell_type": "code",
   "execution_count": 22,
   "id": "ce040e01",
   "metadata": {},
   "outputs": [],
   "source": [
    "p2 = Phone_with_constructor('red', 30)"
   ]
  },
  {
   "cell_type": "code",
   "execution_count": 23,
   "id": "694f62f9",
   "metadata": {},
   "outputs": [
    {
     "name": "stdout",
     "output_type": "stream",
     "text": [
      "make a call\n"
     ]
    }
   ],
   "source": [
    "p2.make_cal()"
   ]
  },
  {
   "cell_type": "code",
   "execution_count": 26,
   "id": "feaace77",
   "metadata": {},
   "outputs": [
    {
     "name": "stdout",
     "output_type": "stream",
     "text": [
      "('red',)\n"
     ]
    }
   ],
   "source": [
    "print(p2.color)"
   ]
  },
  {
   "cell_type": "code",
   "execution_count": 33,
   "id": "f0d20e03",
   "metadata": {},
   "outputs": [],
   "source": [
    "class Phone1:\n",
    "    \n",
    "    def set_color(self, color, cost):\n",
    "        self.color = color\n",
    "        self.cost = cost\n",
    "    def show_color(self):\n",
    "        return self.color, self.cost\n",
    "    def show_cost(self):\n",
    "        return self.cost"
   ]
  },
  {
   "cell_type": "code",
   "execution_count": 34,
   "id": "f1adaf62",
   "metadata": {},
   "outputs": [],
   "source": [
    "p3= Phone1()"
   ]
  },
  {
   "cell_type": "code",
   "execution_count": 35,
   "id": "79ad0b30",
   "metadata": {},
   "outputs": [],
   "source": [
    "p3.set_color('red',30)"
   ]
  },
  {
   "cell_type": "code",
   "execution_count": 36,
   "id": "2102a857",
   "metadata": {},
   "outputs": [
    {
     "data": {
      "text/plain": [
       "('red', 30)"
      ]
     },
     "execution_count": 36,
     "metadata": {},
     "output_type": "execute_result"
    }
   ],
   "source": [
    "p3.show_color()"
   ]
  },
  {
   "cell_type": "code",
   "execution_count": 53,
   "id": "19463de4",
   "metadata": {},
   "outputs": [],
   "source": [
    "class Employee:\n",
    "    def __init__(self, name, gender, age):\n",
    "        self.name = name,\n",
    "        self.gender = gender,\n",
    "        self.age = age\n",
    "        \n",
    "    def show_detail(self):\n",
    "        print(\"name :\", self.name)\n",
    "        print(\"gender :\", self.gender)\n",
    "        print(\"age :\", self.age)"
   ]
  },
  {
   "cell_type": "code",
   "execution_count": 54,
   "id": "e156d3d7",
   "metadata": {},
   "outputs": [],
   "source": [
    "p1 = Employee('ikram','male',39)"
   ]
  },
  {
   "cell_type": "code",
   "execution_count": 55,
   "id": "d8448cc8",
   "metadata": {},
   "outputs": [
    {
     "name": "stdout",
     "output_type": "stream",
     "text": [
      "name : ('ikram',)\n",
      "gender : ('male',)\n",
      "age : 39\n"
     ]
    }
   ],
   "source": [
    "p1.show_detail()"
   ]
  },
  {
   "cell_type": "code",
   "execution_count": 56,
   "id": "4a695470",
   "metadata": {},
   "outputs": [],
   "source": [
    "class Vehicle:\n",
    "    def __init__(self,milage,cost):\n",
    "        self.milage = milage,\n",
    "        self.cost = cost\n",
    "        \n",
    "    def show_vehicle(self):\n",
    "        print(\"Milage of vehicle:\", self.milage)\n",
    "        print(\"cost of vehicle:\", self.cost)\n",
    "        print(\"I am a vehicle\")\n",
    "    "
   ]
  },
  {
   "cell_type": "code",
   "execution_count": 57,
   "id": "7621cd72",
   "metadata": {},
   "outputs": [],
   "source": [
    "v1 = Vehicle(300, 500)"
   ]
  },
  {
   "cell_type": "code",
   "execution_count": 58,
   "id": "94b7dd06",
   "metadata": {},
   "outputs": [
    {
     "name": "stdout",
     "output_type": "stream",
     "text": [
      "Milage of vehicle: (300,)\n",
      "cost of vehicle: 500\n",
      "I am a vehicle\n"
     ]
    }
   ],
   "source": [
    "v1.show_vehicle()"
   ]
  },
  {
   "cell_type": "code",
   "execution_count": 59,
   "id": "eef893d7",
   "metadata": {},
   "outputs": [],
   "source": [
    "class Car(Vehicle):\n",
    "    def show_car_details(self):\n",
    "        print('I am a car')"
   ]
  },
  {
   "cell_type": "code",
   "execution_count": 60,
   "id": "7f5672ee",
   "metadata": {},
   "outputs": [],
   "source": [
    "c = Car(250, 800)"
   ]
  },
  {
   "cell_type": "code",
   "execution_count": 61,
   "id": "af89f0f2",
   "metadata": {},
   "outputs": [
    {
     "name": "stdout",
     "output_type": "stream",
     "text": [
      "Milage of vehicle: (250,)\n",
      "cost of vehicle: 800\n",
      "I am a vehicle\n"
     ]
    }
   ],
   "source": [
    "c.show_vehicle()"
   ]
  },
  {
   "cell_type": "code",
   "execution_count": 62,
   "id": "698c0638",
   "metadata": {},
   "outputs": [
    {
     "name": "stdout",
     "output_type": "stream",
     "text": [
      "I am a car\n"
     ]
    }
   ],
   "source": [
    "c.show_car_details()"
   ]
  },
  {
   "cell_type": "code",
   "execution_count": null,
   "id": "61c0ea17",
   "metadata": {},
   "outputs": [],
   "source": []
  }
 ],
 "metadata": {
  "kernelspec": {
   "display_name": "Python 3 (ipykernel)",
   "language": "python",
   "name": "python3"
  },
  "language_info": {
   "codemirror_mode": {
    "name": "ipython",
    "version": 3
   },
   "file_extension": ".py",
   "mimetype": "text/x-python",
   "name": "python",
   "nbconvert_exporter": "python",
   "pygments_lexer": "ipython3",
   "version": "3.9.16"
  }
 },
 "nbformat": 4,
 "nbformat_minor": 5
}
