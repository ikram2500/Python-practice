{
 "cells": [
  {
   "cell_type": "code",
   "execution_count": 3,
   "id": "9a73caf9",
   "metadata": {},
   "outputs": [
    {
     "name": "stdout",
     "output_type": "stream",
     "text": [
      "name: ikram, age: 30\n"
     ]
    }
   ],
   "source": [
    "def person(name, age):\n",
    "    print(f'name: {name}, age: {age}')\n",
    "\n",
    "person('ikram', 30)"
   ]
  },
  {
   "cell_type": "code",
   "execution_count": 5,
   "id": "b2e6ec08",
   "metadata": {},
   "outputs": [
    {
     "name": "stdout",
     "output_type": "stream",
     "text": [
      "name: ikram, age: 30\n",
      "the name is ikram\n"
     ]
    }
   ],
   "source": [
    "class Person:\n",
    "    def __init__(self, name, age) -> None:\n",
    "        self.name = name\n",
    "        self.age = age\n",
    "    def give_name(self):\n",
    "        print(f'the name is {self.name}')\n",
    "\n",
    "person1 = Person('ikram', 30)\n",
    "print(f'name: {person1.name}, age: {person1.age}')\n",
    "person1.give_name()"
   ]
  },
  {
   "cell_type": "markdown",
   "id": "9a0e6ef1",
   "metadata": {},
   "source": [
    "https://www.youtube.com/watch?v=iLRZi0Gu8Go&t=218s"
   ]
  },
  {
   "cell_type": "code",
   "execution_count": 2,
   "id": "40dd8377",
   "metadata": {},
   "outputs": [],
   "source": [
    "class Person:\n",
    "    def __init__(self, name, age, work='developer') -> None:\n",
    "        self.name = name\n",
    "        self.age = age\n",
    "        self.work = work\n",
    "\n",
    "    def greet(self):\n",
    "        print(f'Hello, my name is {self.name}, I am {self.age} years old and I work as a {self.work}.')"
   ]
  },
  {
   "cell_type": "code",
   "execution_count": 3,
   "id": "0a16519c",
   "metadata": {},
   "outputs": [
    {
     "name": "stdout",
     "output_type": "stream",
     "text": [
      "Hello, my name is ikram, I am 30 years old and I work as a developer.\n"
     ]
    }
   ],
   "source": [
    "person1 = Person('ikram', 30)\n",
    "person1.greet()"
   ]
  },
  {
   "cell_type": "code",
   "execution_count": 14,
   "id": "df590fe1",
   "metadata": {},
   "outputs": [
    {
     "name": "stdout",
     "output_type": "stream",
     "text": [
      "Sending message to salman: HI salman, It's salman.\n"
     ]
    }
   ],
   "source": [
    "class User:\n",
    "    def __init__(self, username, email, password):\n",
    "        self.username = username\n",
    "        self.email = email\n",
    "        self.password = password\n",
    "\n",
    "    def greet(self, user):\n",
    "        print (\n",
    "            f\"Sending message to {user.username}: HI {user.username}, It's {user.username}.\"\n",
    "        )\n",
    "user1 = User('ikram', 'email=ikram234@gmail.com', 'password=1234')\n",
    "user2 = User('salman', 'salman@gmail.com', 'password=abc')\n",
    "user1.greet(user2)"
   ]
  },
  {
   "cell_type": "code",
   "execution_count": null,
   "id": "b75fc0a2",
   "metadata": {},
   "outputs": [
    {
     "name": "stdout",
     "output_type": "stream",
     "text": [
      "Sending message to salman: HI salman, It's salman.\n"
     ]
    }
   ],
   "source": []
  },
  {
   "cell_type": "code",
   "execution_count": null,
   "id": "e2181d7c",
   "metadata": {},
   "outputs": [
    {
     "name": "stdout",
     "output_type": "stream",
     "text": [
      "Sending message to salman: HI salman, It's salman.\n"
     ]
    }
   ],
   "source": [
    "\n"
   ]
  },
  {
   "cell_type": "code",
   "execution_count": null,
   "id": "c7bb830b",
   "metadata": {},
   "outputs": [],
   "source": []
  }
 ],
 "metadata": {
  "kernelspec": {
   "display_name": "env",
   "language": "python",
   "name": "python3"
  },
  "language_info": {
   "codemirror_mode": {
    "name": "ipython",
    "version": 3
   },
   "file_extension": ".py",
   "mimetype": "text/x-python",
   "name": "python",
   "nbconvert_exporter": "python",
   "pygments_lexer": "ipython3",
   "version": "3.12.10"
  }
 },
 "nbformat": 4,
 "nbformat_minor": 5
}
