{
 "cells": [
  {
   "cell_type": "markdown",
   "id": "03dbe9a6",
   "metadata": {},
   "source": [
    "### https://www.youtube.com/watch?v=lbVIyKoVxVU&list=WL&index=6&t=113s "
   ]
  },
  {
   "cell_type": "code",
   "execution_count": null,
   "id": "8a5d53f2",
   "metadata": {},
   "outputs": [],
   "source": [
    "class Course:\n",
    "    def __init__(self, title, mentor):\n",
    "        self.title = title\n",
    "        self.mentor = mentor \n",
    "    \n",
    "        "
   ]
  },
  {
   "cell_type": "code",
   "execution_count": 3,
   "id": "88eefef2",
   "metadata": {},
   "outputs": [
    {
     "name": "stdout",
     "output_type": "stream",
     "text": [
      "<__main__.Course object at 0x000002295FC72B70>\n"
     ]
    }
   ],
   "source": [
    "print(a)"
   ]
  },
  {
   "cell_type": "code",
   "execution_count": 7,
   "id": "f93904b7",
   "metadata": {},
   "outputs": [
    {
     "data": {
      "text/plain": [
       "'python'"
      ]
     },
     "execution_count": 7,
     "metadata": {},
     "output_type": "execute_result"
    }
   ],
   "source": [
    "a = Course(\"python\", \"ikram\")\n",
    "a.title"
   ]
  },
  {
   "cell_type": "code",
   "execution_count": null,
   "id": "17617ce0",
   "metadata": {},
   "outputs": [],
   "source": [
    "class Course:\n",
    "    def __init__(self, title, mentor):\n",
    "        self.title = title\n",
    "        self.mentor = mentor \n",
    "    def __str__(self): # when we print the object, this method will be called\n",
    "        \"\"\"Return a string representation of the course.\"\"\"\n",
    "        return f\"{self.title} by {self.mentor}\"\n",
    "        "
   ]
  },
  {
   "cell_type": "code",
   "execution_count": null,
   "id": "0fc5f050",
   "metadata": {},
   "outputs": [
    {
     "name": "stdout",
     "output_type": "stream",
     "text": [
      "python by ikram\n"
     ]
    }
   ],
   "source": [
    "print(a)"
   ]
  },
  {
   "cell_type": "code",
   "execution_count": 10,
   "id": "2f080cf7",
   "metadata": {},
   "outputs": [],
   "source": [
    "class Course:\n",
    "    def __init__(self, title, mentor):\n",
    "        self.title = title\n",
    "        self.mentor = mentor \n",
    "    def __str__(self):\n",
    "        return f\"{self.title} by {self.mentor}\"\n",
    "    \n",
    "    def __eq__(self, other):\n",
    "        \"\"\"Check if two courses are equal based on title and mentor.\"\"\"\n",
    "        return self.title == other.title and self.mentor == other.mentor"
   ]
  },
  {
   "cell_type": "code",
   "execution_count": 11,
   "id": "0a5aad75",
   "metadata": {},
   "outputs": [],
   "source": [
    "a = Course(\"python\", \"ikram\")\n",
    "b = Course(\"python\", \"ikram\")"
   ]
  },
  {
   "cell_type": "code",
   "execution_count": 12,
   "id": "a499ca9d",
   "metadata": {},
   "outputs": [
    {
     "data": {
      "text/plain": [
       "True"
      ]
     },
     "execution_count": 12,
     "metadata": {},
     "output_type": "execute_result"
    }
   ],
   "source": [
    "a == b "
   ]
  },
  {
   "cell_type": "code",
   "execution_count": 13,
   "id": "3607e4db",
   "metadata": {},
   "outputs": [
    {
     "data": {
      "text/plain": [
       "<__main__.Course at 0x2295f83f0e0>"
      ]
     },
     "execution_count": 13,
     "metadata": {},
     "output_type": "execute_result"
    }
   ],
   "source": [
    "a"
   ]
  },
  {
   "cell_type": "code",
   "execution_count": 14,
   "id": "b0b00a5a",
   "metadata": {},
   "outputs": [
    {
     "name": "stdout",
     "output_type": "stream",
     "text": [
      "python by ikram\n"
     ]
    }
   ],
   "source": [
    "print(a)"
   ]
  },
  {
   "cell_type": "code",
   "execution_count": 19,
   "id": "f1dd6d38",
   "metadata": {},
   "outputs": [],
   "source": [
    "class Course:\n",
    "    def __init__(self, title, mentor):\n",
    "        self.title = title\n",
    "        self.mentor = mentor \n",
    "    def __str__(self):\n",
    "        return f\"{self.title} by {self.mentor}\"\n",
    "    def __len__(self):\n",
    "        \"\"\"Return the length of the course title.\"\"\"\n",
    "        return len(self.title), len(self.mentor)"
   ]
  },
  {
   "cell_type": "code",
   "execution_count": 24,
   "id": "5c7b3382",
   "metadata": {},
   "outputs": [],
   "source": [
    "a = Course([\"python\",\"datascience\",\"generativeai\"], \"ikram\")"
   ]
  },
  {
   "cell_type": "code",
   "execution_count": 25,
   "id": "5b02b5bf",
   "metadata": {},
   "outputs": [
    {
     "data": {
      "text/plain": [
       "5"
      ]
     },
     "execution_count": 25,
     "metadata": {},
     "output_type": "execute_result"
    }
   ],
   "source": [
    "len(a.mentor)  # This will call the __len__ method defined in the Course class"
   ]
  },
  {
   "cell_type": "code",
   "execution_count": 22,
   "id": "07f67e01",
   "metadata": {},
   "outputs": [],
   "source": [
    "del a "
   ]
  },
  {
   "cell_type": "code",
   "execution_count": 26,
   "id": "f30c95ff",
   "metadata": {},
   "outputs": [
    {
     "data": {
      "text/plain": [
       "['python', 'datascience', 'generativeai']"
      ]
     },
     "execution_count": 26,
     "metadata": {},
     "output_type": "execute_result"
    }
   ],
   "source": [
    "a.title"
   ]
  },
  {
   "cell_type": "code",
   "execution_count": 27,
   "id": "2ba7e14d",
   "metadata": {},
   "outputs": [
    {
     "data": {
      "text/plain": [
       "<method-wrapper '__delattr__' of Course object at 0x000002295FC3FF20>"
      ]
     },
     "execution_count": 27,
     "metadata": {},
     "output_type": "execute_result"
    }
   ],
   "source": [
    "a.__delattr__"
   ]
  },
  {
   "cell_type": "code",
   "execution_count": 28,
   "id": "f66fc60f",
   "metadata": {},
   "outputs": [
    {
     "data": {
      "text/plain": [
       "<__main__.Course at 0x2295fc3ff20>"
      ]
     },
     "execution_count": 28,
     "metadata": {},
     "output_type": "execute_result"
    }
   ],
   "source": [
    "a"
   ]
  },
  {
   "cell_type": "code",
   "execution_count": 29,
   "id": "d62ecfca",
   "metadata": {},
   "outputs": [
    {
     "name": "stdout",
     "output_type": "stream",
     "text": [
      "['python', 'datascience', 'generativeai'] by ikram\n"
     ]
    }
   ],
   "source": [
    "print(a)"
   ]
  },
  {
   "cell_type": "code",
   "execution_count": 30,
   "id": "933d16e1",
   "metadata": {},
   "outputs": [],
   "source": [
    "from typing import Any\n",
    "\n",
    "\n",
    "class Course:\n",
    "    def __init__(self, title, mentor):\n",
    "        self.title = title\n",
    "        self.mentor = mentor \n",
    "    def __str__(self):\n",
    "        return f\"{self.title} by {self.mentor}\"\n",
    "    def __len__(self):\n",
    "        \"\"\"Return the length of the course title.\"\"\"\n",
    "        return len(self.title), len(self.mentor)\n",
    "    \n",
    "    def __del__(self):\n",
    "        \"\"\"Clean up resources when the course object is deleted.\"\"\"\n",
    "        print(f\"Course {self.title} by {self.mentor} is being deleted.\")\n",
    "\n",
    "    def __call__(self, *args: Any, **kwds: Any) -> Any:\n",
    "        return f\"Course {self.title} is being called with arguments: {args} and keyword arguments: {kwds}\""
   ]
  },
  {
   "cell_type": "code",
   "execution_count": 31,
   "id": "89fe9ac3",
   "metadata": {},
   "outputs": [],
   "source": [
    "a = Course(\"python\", \"ikram\")"
   ]
  },
  {
   "cell_type": "code",
   "execution_count": 32,
   "id": "e219ce64",
   "metadata": {},
   "outputs": [
    {
     "data": {
      "text/plain": [
       "\"Course python is being called with arguments: ('argument1', 'argument2') and keyword arguments: {'key1': 'value1', 'key2': 'value2'}\""
      ]
     },
     "execution_count": 32,
     "metadata": {},
     "output_type": "execute_result"
    }
   ],
   "source": [
    "a(\"argument1\", \"argument2\", key1=\"value1\", key2=\"value2\")"
   ]
  },
  {
   "cell_type": "code",
   "execution_count": null,
   "id": "d71c8210",
   "metadata": {},
   "outputs": [],
   "source": []
  }
 ],
 "metadata": {
  "kernelspec": {
   "display_name": "env",
   "language": "python",
   "name": "python3"
  },
  "language_info": {
   "codemirror_mode": {
    "name": "ipython",
    "version": 3
   },
   "file_extension": ".py",
   "mimetype": "text/x-python",
   "name": "python",
   "nbconvert_exporter": "python",
   "pygments_lexer": "ipython3",
   "version": "3.12.10"
  }
 },
 "nbformat": 4,
 "nbformat_minor": 5
}
