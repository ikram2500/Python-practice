{
 "cells": [
  {
   "cell_type": "code",
   "execution_count": 4,
   "id": "f93661f7",
   "metadata": {},
   "outputs": [],
   "source": [
    "import re \n",
    "#re.match(pattern, test_string)"
   ]
  },
  {
   "cell_type": "markdown",
   "id": "8a12eeaf",
   "metadata": {},
   "source": [
    "# Python RegEx"
   ]
  },
  {
   "cell_type": "markdown",
   "id": "4b509ceb",
   "metadata": {},
   "source": [
    "Here r character (r’portal’) stands for raw, not RegEx. The raw string is slightly different from a regular string, it won’t interpret the \\ character as an escape character. This is because the regular expression engine uses \\ character for its own escaping purpose."
   ]
  },
  {
   "cell_type": "markdown",
   "id": "dece5157",
   "metadata": {},
   "source": [
    "# MetaCharacters"
   ]
  },
  {
   "cell_type": "markdown",
   "id": "02e5838e",
   "metadata": {},
   "source": [
    "To understand the RE analogy, MetaCharacters are useful, important, and will be used in functions of module re. Below is the list of metacharacters.\n",
    "MetaCharacters\tDescription\n",
    "- \\\tUsed to drop the special meaning of character following it\n",
    "- ' [ ]\t'Represent a character class\n",
    "- ^\tMatches the beginning\n",
    "- $\tMatches the end\n",
    "- ' . '\tMatches any character except newline\n",
    "- |\tMeans OR (Matches with any of the characters separated by it.\n",
    "- ?\tMatches zero or one occurrence\n",
    "- ' * ' \tAny number of occurrences (including 0 occurrences)\n",
    "- ' + '\t    One or more occurrences\n",
    "- { }\tIndicate the number of occurrences of a preceding RegEx to match.\n",
    "- ( )\tEnclose a group of RegEx"
   ]
  },
  {
   "cell_type": "markdown",
   "id": "095b900b",
   "metadata": {},
   "source": [
    "# Meta Characters in detail"
   ]
  },
  {
   "cell_type": "markdown",
   "id": "99604374",
   "metadata": {},
   "source": [
    "# 1.  \\ – Backslash\n",
    "### The backslash (\\) makes sure that the character is not treated in a special way. This can be considered a way of escaping metacharacters. For example, if you want to search for the dot(.) in the string then you will find that dot(.) will be treated as a special character as is one of the metacharacters (as shown below in the table). So for this case, we will use the backslash(\\) just before the dot(.) so that it will lose its specialty. See the below example for a better understanding."
   ]
  },
  {
   "cell_type": "code",
   "execution_count": 7,
   "id": "e41bfc26",
   "metadata": {},
   "outputs": [
    {
     "name": "stdout",
     "output_type": "stream",
     "text": [
      "<re.Match object; span=(0, 1), match='g'>\n",
      "<re.Match object; span=(5, 6), match='.'>\n"
     ]
    }
   ],
   "source": [
    "s = 'geeks.forgeeks'\n",
    " \n",
    "# without using \\\n",
    "match = re.search(r'.', s)\n",
    "print(match)\n",
    " \n",
    "# using \\\n",
    "match = re.search(r'\\.', s)\n",
    "print(match)"
   ]
  },
  {
   "cell_type": "markdown",
   "id": "d46cfa8c",
   "metadata": {},
   "source": [
    "# 2. [ ] – Square Brackets\n",
    "### Square Brackets ([ ]) represent a character class consisting of a set of characters that we wish to match. For example, the character class [abc] will match any single a, b, or c. \n",
    "\n",
    "### We can also specify a range of characters using – inside the square brackets. For example, \n",
    "### [0, 3] is sample as [0123]\n",
    "#### [a-c] is same as [abc]\n",
    "#### We can also invert the character class using the caret(^) symbol. For example, \n",
    "\n",
    "#### [^0-3] means any number except 0, 1, 2, or 3\n",
    "#### [^a-c] means any character except a, b, or c\n",
    "#### Example:"
   ]
  },
  {
   "cell_type": "code",
   "execution_count": 20,
   "id": "ae2b14c8",
   "metadata": {},
   "outputs": [
    {
     "name": "stdout",
     "output_type": "stream",
     "text": [
      "['T', 'h', 'e', ' ', 'q', 'u', 'i', 'k', ' ', 'r', 'o', 'w', 'n', ' ', 'f', 'o', 'x', ' ', 'j', 'u', 'm', 'p', 's', ' ', 'o', 'v', 'e', 'r', ' ', 't', 'h', 'e', ' ', 'l', 'z', 'y', ' ', 'd', 'o', 'g']\n"
     ]
    }
   ],
   "source": [
    "string = \"The quick brown fox jumps over the lazy dog\"\n",
    "pattern = \"[^a-c]\"\n",
    "result = re.findall(pattern, string)\n",
    " \n",
    "print(result)"
   ]
  },
  {
   "cell_type": "markdown",
   "id": "cc021962",
   "metadata": {},
   "source": [
    "# 3.^ – Caret\n",
    "Caret (^) symbol matches the beginning of the string i.e. checks whether the string starts with the given character(s) or not. For example –  \n",
    "\n",
    "^g will check if the string starts with g such as geeks, globe, girl, g, etc.\n",
    "^ge will check if the string starts with ge such as geeks, geeksforgeeks, etc.\n",
    "Example:"
   ]
  },
  {
   "cell_type": "code",
   "execution_count": 9,
   "id": "86d8e341",
   "metadata": {},
   "outputs": [
    {
     "name": "stdout",
     "output_type": "stream",
     "text": [
      "Matched: The quick brown fox\n",
      "Matched: The lazy dog\n",
      "Not matched: A quick brown fox\n"
     ]
    }
   ],
   "source": [
    "# Match strings starting with \"The\"\n",
    "regex = r'^The'\n",
    "strings = ['The quick brown fox', 'The lazy dog', 'A quick brown fox']\n",
    "for string in strings:\n",
    "    if re.match(regex, string):\n",
    "        print(f'Matched: {string}')\n",
    "    else:\n",
    "        print(f'Not matched: {string}')"
   ]
  },
  {
   "cell_type": "markdown",
   "id": "b35bfbeb",
   "metadata": {},
   "source": [
    "# 4. $ – Dollar\n",
    "\n",
    "Dollar($) symbol matches the end of the string i.e checks whether the string ends with the given character(s) or not. For example – \n",
    "\n",
    "s$ will check for the string that ends with a such as geeks, ends, s, etc.\n",
    "ks$ will check for the string that ends with ks such as geeks, geeksforgeeks, ks, etc."
   ]
  },
  {
   "cell_type": "code",
   "execution_count": 10,
   "id": "d5935008",
   "metadata": {},
   "outputs": [
    {
     "name": "stdout",
     "output_type": "stream",
     "text": [
      "<re.Match object; span=(6, 12), match='World!'>\n"
     ]
    }
   ],
   "source": [
    "string = \"Hello World!\"\n",
    "pattern = r\"World!$\"\n",
    " \n",
    "match = re.search(pattern, string)\n",
    "print(match)"
   ]
  },
  {
   "cell_type": "markdown",
   "id": "7d85edd7",
   "metadata": {},
   "source": [
    "# 5.. – Dot\n",
    "Dot(.) symbol matches only a single character except for the newline character (\\n). For example –  \n",
    "\n",
    "a.b will check for the string that contains any character at the place of the dot such as acb, acbd, abbb, etc\n",
    ".. will check if the string contains at least 2 characters\n",
    "Example:"
   ]
  },
  {
   "cell_type": "code",
   "execution_count": 11,
   "id": "112cb1f3",
   "metadata": {},
   "outputs": [
    {
     "name": "stdout",
     "output_type": "stream",
     "text": [
      "<re.Match object; span=(10, 19), match='brown fox'>\n"
     ]
    }
   ],
   "source": [
    "string = \"The quick brown fox jumps over the lazy dog.\"\n",
    "pattern = r\"brown.fox\"\n",
    " \n",
    "match = re.search(pattern, string)\n",
    "print(match)"
   ]
  },
  {
   "cell_type": "markdown",
   "id": "d13fbf18",
   "metadata": {},
   "source": [
    "# 6. | – Or\n",
    "- Or symbol works as the or operator meaning it checks whether the pattern before or after the or symbol is present in the string or not. For example –  \n",
    "\n",
    "- a|b will match any string that contains a or b such as acd, bcd, abcd, etc."
   ]
  },
  {
   "cell_type": "markdown",
   "id": "ec14c519",
   "metadata": {},
   "source": [
    "# 7.? – Question Mark\n",
    " - The question mark (?) is a quantifier in regular expressions that indicates that the preceding element should be matched zero or one time. It allows you to specify that the element is optional, meaning it may occur once or not at all. For example,\n",
    "\n",
    "- ab?c will be matched for the string ac, acb, dabc but will not be matched for abbc because there are two b. Similarly, it will not be matched for abdc because b is not followed by c."
   ]
  },
  {
   "cell_type": "markdown",
   "id": "8a9e3057",
   "metadata": {},
   "source": [
    "# 8. * – Star\n",
    "- Star (*) symbol matches zero or more occurrences of the regex preceding the * symbol. For example –  \n",
    "\n",
    "- ab*c will be matched for the string ac, abc, abbbc, dabc, etc. but will not be matched for abdc because b is not followed by c."
   ]
  },
  {
   "cell_type": "code",
   "execution_count": 30,
   "id": "ee5fac2c",
   "metadata": {},
   "outputs": [
    {
     "name": "stdout",
     "output_type": "stream",
     "text": [
      "['ab', 'abb', 'a', 'abbb']\n"
     ]
    }
   ],
   "source": [
    "# '*' replaces the no. of occurrence\n",
    "# of a character.\n",
    "p = re.compile('ab*')\n",
    "print(p.findall(\"ababbaabbb\"))"
   ]
  },
  {
   "cell_type": "markdown",
   "id": "b0d1743e",
   "metadata": {},
   "source": [
    "# 9. + – Plus\n",
    "- Plus (+) symbol matches one or more occurrences of the regex preceding the + symbol. For example –  \n",
    "\n",
    "- ab+c will be matched for the string abc, abbc, dabc, but will not be matched for ac, abdc, because there is no b in ac and b, is not followed by c in abdc."
   ]
  },
  {
   "cell_type": "markdown",
   "id": "9f3d449b",
   "metadata": {},
   "source": [
    "# 10.{m, n} – Braces\n",
    "- Braces match any repetitions preceding regex from m to n both inclusive. For example –  \n",
    "\n",
    "- a{2, 4} will be matched for the string aaab, baaaac, gaad, but will not be matched for strings like abc, bc because there is only one a or no a in both the cases."
   ]
  },
  {
   "cell_type": "markdown",
   "id": "d8160e82",
   "metadata": {},
   "source": [
    "# 11.(<regex>) –  * Group *\n",
    "- Group symbol is used to group sub-patterns. For example –  \n",
    "\n",
    "- (a|b)cd will match for strings like acd, abcd, gacd, etc."
   ]
  },
  {
   "cell_type": "code",
   "execution_count": null,
   "id": "0e0ac5b0",
   "metadata": {},
   "outputs": [],
   "source": []
  },
  {
   "cell_type": "code",
   "execution_count": null,
   "id": "a3e4b47e",
   "metadata": {},
   "outputs": [],
   "source": []
  },
  {
   "cell_type": "markdown",
   "id": "3abfc2da",
   "metadata": {},
   "source": [
    "# Basic RegEx"
   ]
  },
  {
   "cell_type": "markdown",
   "id": "8ada4019",
   "metadata": {},
   "source": [
    "- Character Classes\n",
    "- Rangers\n",
    "- Negation\n",
    "- Shortcuts\n",
    "- Beginning and End of String\n",
    "- Any Character"
   ]
  },
  {
   "cell_type": "markdown",
   "id": "36a26e5a",
   "metadata": {},
   "source": [
    " # 1. Character Classes\n",
    " ### Character classes allow you to match a single set of characters with a possible set of characters. You can mention a character class within the square brackets. Let’s consider an example of case sensitive words. "
   ]
  },
  {
   "cell_type": "code",
   "execution_count": 12,
   "id": "6c771006",
   "metadata": {},
   "outputs": [
    {
     "name": "stdout",
     "output_type": "stream",
     "text": [
      "['Keeks', 'Keeks', 'geeks']\n"
     ]
    }
   ],
   "source": [
    "import re\n",
    "print(re.findall(r'[Kg]eeks', 'KeeksforKeeks: \\\n",
    "                 A computer science portal for geeks'))"
   ]
  },
  {
   "cell_type": "markdown",
   "id": "e0e6379c",
   "metadata": {},
   "source": [
    "# 2. Ranges\n",
    "The range provides the flexibility to match a text with the help of a range pattern such as a range of numbers(0 to 9), a range of characters (A to Z), and so on. The hyphen character within the character class represents a range."
   ]
  },
  {
   "cell_type": "code",
   "execution_count": 13,
   "id": "c2cbe33c",
   "metadata": {},
   "outputs": [
    {
     "name": "stdout",
     "output_type": "stream",
     "text": [
      "Range <re.Match object; span=(0, 1), match='o'>\n",
      "matched\n"
     ]
    }
   ],
   "source": [
    "print('Range',re.search(r'[a-zA-Z]', 'ohis is a class'))\n",
    "print('matched')"
   ]
  },
  {
   "cell_type": "code",
   "execution_count": 14,
   "id": "0545a821",
   "metadata": {},
   "outputs": [
    {
     "name": "stdout",
     "output_type": "stream",
     "text": [
      "<re.Match object; span=(0, 5), match='abyss'>\n"
     ]
    }
   ],
   "source": [
    "pattern = '^a...s$'\n",
    "test_string = 'abyss'\n",
    "result = re.match(pattern, test_string)\n",
    "print(result)"
   ]
  },
  {
   "cell_type": "markdown",
   "id": "5f6432a6",
   "metadata": {},
   "source": [
    "Here, we used re.match() function to search pattern within the test_string. The method returns a match object if the search is successful. If not, it returns None."
   ]
  },
  {
   "cell_type": "markdown",
   "id": "4dac0dc5",
   "metadata": {},
   "source": [
    "# 3.Negation\n",
    "Negation inverts a character class. It will look for a match except for the inverted character or range of inverted characters mentioned in the character class."
   ]
  },
  {
   "cell_type": "code",
   "execution_count": 15,
   "id": "c6fc7588",
   "metadata": {},
   "outputs": [
    {
     "name": "stdout",
     "output_type": "stream",
     "text": [
      "None\n"
     ]
    },
    {
     "data": {
      "text/plain": [
       "'In the above case, we have inverted the character class that ranges from a to z. If we try to match a character within the mentioned range, the regular expression engine returns None.'"
      ]
     },
     "execution_count": 15,
     "metadata": {},
     "output_type": "execute_result"
    }
   ],
   "source": [
    "print(re.search(r'[^a-z]', 'a'))\n",
    "'''In the above case, we have inverted the character class that ranges from a to z. If we try to match a character within the mentioned range, the regular expression engine returns None.'''"
   ]
  },
  {
   "cell_type": "code",
   "execution_count": 16,
   "id": "492f2605",
   "metadata": {},
   "outputs": [
    {
     "name": "stdout",
     "output_type": "stream",
     "text": [
      "None\n",
      "<re.Match object; span=(0, 2), match='Gk'>\n"
     ]
    }
   ],
   "source": [
    "print(re.search(r'G[^e]', 'Geeks'))\n",
    "#Here it accepts any other character that follows G, other than e. lets try in another way \n",
    "print(re.search(r'G[^e]', 'Gks'))"
   ]
  },
  {
   "cell_type": "markdown",
   "id": "a6b8eefc",
   "metadata": {},
   "source": [
    "# 4.Shortcuts\n",
    "Let’s discuss some of the shortcuts provided by the regular expression engine.\n",
    "\n",
    "- \\w – matches a word character\n",
    "- \\d – matches digit character\n",
    "- \\s – matches whitespace character (space, tab, newline, etc.)\n",
    "- \\b – matches a zero-length character"
   ]
  },
  {
   "cell_type": "code",
   "execution_count": 17,
   "id": "373b51fe",
   "metadata": {},
   "outputs": [
    {
     "name": "stdout",
     "output_type": "stream",
     "text": [
      "<re.Match object; span=(0, 5), match='Geeks'>\n"
     ]
    }
   ],
   "source": [
    "print( re.search(r'\\bGeeks\\b', 'Geeks for Geeks'))"
   ]
  },
  {
   "cell_type": "markdown",
   "id": "8d49a85f",
   "metadata": {},
   "source": [
    "# 5. ' ^ ' Beginning and ''End of String\n",
    "The ^ character chooses the beginning of a string and the $ character chooses the end of a string."
   ]
  },
  {
   "cell_type": "code",
   "execution_count": 18,
   "id": "cbb5bed6",
   "metadata": {},
   "outputs": [
    {
     "name": "stdout",
     "output_type": "stream",
     "text": [
      "Beg. of String: None\n",
      "Beg. of String: <re.Match object; span=(0, 4), match='Geek'>\n",
      "End of String: <re.Match object; span=(31, 36), match='Geeks'>\n"
     ]
    }
   ],
   "source": [
    "# Beginning of String\n",
    "match = re.search(r'^Geek', 'Campus Geek of the month')\n",
    "print('Beg. of String:', match)\n",
    "\n",
    "match = re.search(r'^Geek', 'Geek of the month')\n",
    "print('Beg. of String:', match)\n",
    "\n",
    "# End of String\n",
    "match = re.search(r'Geeks$', 'Compute science portal-GeeksforGeeks')\n",
    "print('End of String:', match)"
   ]
  },
  {
   "cell_type": "markdown",
   "id": "451de542",
   "metadata": {},
   "source": [
    "# 6.   \" . \" Any Character\n",
    "The \" . \" character represents any single character outside a bracketed character class."
   ]
  },
  {
   "cell_type": "code",
   "execution_count": 19,
   "id": "9714b4e4",
   "metadata": {},
   "outputs": [
    {
     "name": "stdout",
     "output_type": "stream",
     "text": [
      "Any Character <re.Match object; span=(0, 6), match='fython'>\n"
     ]
    }
   ],
   "source": [
    "print('Any Character', re.search(r'f.th.n', 'fython 3'))"
   ]
  },
  {
   "cell_type": "markdown",
   "id": "2507ee95",
   "metadata": {},
   "source": [
    "# Here is the end of the Basic RegEx"
   ]
  },
  {
   "cell_type": "code",
   "execution_count": null,
   "id": "3f50c8c7",
   "metadata": {},
   "outputs": [],
   "source": []
  },
  {
   "cell_type": "markdown",
   "id": "5d799522",
   "metadata": {},
   "source": [
    "# Regex Module in Python\n",
    "- Python has a module named re that is used for regular expressions in Python. We can import this module by using the import statement.\n",
    "\n",
    "\n",
    "Let’s see various functions provided by this module to work with regex in Python. "
   ]
  },
  {
   "cell_type": "markdown",
   "id": "fe374a27",
   "metadata": {},
   "source": [
    "# 1. re.findall()\n",
    "- Return all non-overlapping matches of pattern in string, as a list of strings. The string is scanned left-to-right, and matches are returned in the order found.\n",
    "\n",
    "Example: Finding all occurrences of a pattern "
   ]
  },
  {
   "cell_type": "code",
   "execution_count": 21,
   "id": "13210f60",
   "metadata": {},
   "outputs": [
    {
     "name": "stdout",
     "output_type": "stream",
     "text": [
      "['123456789', '987654321']\n"
     ]
    }
   ],
   "source": [
    "string = \"\"\"Hello my Number is 123456789 and\n",
    "            my friend's number is 987654321\"\"\"\n",
    " \n",
    "# A sample regular expression to find digits.\n",
    "regex = '\\d+'\n",
    " \n",
    "match = re.findall(regex, string)\n",
    "print(match)"
   ]
  },
  {
   "cell_type": "markdown",
   "id": "7a04a390",
   "metadata": {},
   "source": [
    "# 2. re.compile() \n",
    "Regular expressions are compiled into pattern objects, which have methods for various operations such as searching for pattern matches or performing string substitutions. \n",
    "\n",
    "Example 1:"
   ]
  },
  {
   "cell_type": "code",
   "execution_count": 24,
   "id": "359c22ab",
   "metadata": {},
   "outputs": [
    {
     "name": "stdout",
     "output_type": "stream",
     "text": [
      "['e', 'a', 'd', 'b', 'e', 'a']\n"
     ]
    }
   ],
   "source": [
    "# compile() creates regular expression\n",
    "# character class [a-e],\n",
    "# which is equivalent to [abcde].\n",
    "# class [abcde] will match with string with\n",
    "# 'a', 'b', 'c', 'd', 'e'.\n",
    "\n",
    "p = re.compile('[a-e]')\n",
    "\n",
    "# findall() searches for the Regular Expression\n",
    "# and return a list upon finding\n",
    "\n",
    "print(p.findall(\"Aye, said Mr. Gibenson Stark\"))"
   ]
  },
  {
   "cell_type": "markdown",
   "id": "71962c0d",
   "metadata": {},
   "source": [
    "#  3.  re.split() \n",
    "- Split string by the occurrences of a character or a pattern, upon finding that pattern, the remaining characters from the string are returned as part of the resulting list. \n",
    "\n",
    "- Syntax :  re.split(pattern, string, maxsplit=0, flags=0)\n",
    "- The flags are very useful and can help to shorten code, they are not necessary parameters, eg: flags = re.IGNORECASE, in this split, the case, i.e. the lowercase or the uppercase will be ignored.\n",
    "\n",
    "Example 1:"
   ]
  },
  {
   "cell_type": "code",
   "execution_count": 32,
   "id": "754940e8",
   "metadata": {},
   "outputs": [
    {
     "name": "stdout",
     "output_type": "stream",
     "text": [
      "['Words', 'words', 'Words']\n",
      "['Word', 's', 'words', 'Words']\n"
     ]
    }
   ],
   "source": [
    "from re import split\n",
    "\n",
    "# '\\W+' denotes Non-Alphanumeric Characters\n",
    "# or group of characters Upon finding ','\n",
    "# or whitespace ' ', the split(), splits the\n",
    "# string from that point\n",
    "print(split('\\W+', 'Words, words , Words'))\n",
    "print(split('\\W+', \"Word's words Words\"))"
   ]
  },
  {
   "cell_type": "code",
   "execution_count": 33,
   "id": "e8d0ddf4",
   "metadata": {},
   "outputs": [
    {
     "name": "stdout",
     "output_type": "stream",
     "text": [
      "['On', '12th', 'Jan', '2016', 'at', '11', '02', 'AM']\n"
     ]
    }
   ],
   "source": [
    "# Here ':', ' ' ,',' are not AlphaNumeric thus,\n",
    "# the point where splitting occurs\n",
    "print(split('\\W+', 'On 12th Jan 2016, at 11:02 AM'))"
   ]
  },
  {
   "cell_type": "code",
   "execution_count": 34,
   "id": "4ada3f8e",
   "metadata": {},
   "outputs": [
    {
     "name": "stdout",
     "output_type": "stream",
     "text": [
      "['On ', 'th Jan ', ', at ', ':', ' AM']\n"
     ]
    }
   ],
   "source": [
    "# '\\d+' denotes Numeric Characters or group of\n",
    "# characters Splitting occurs at '12', '2016',\n",
    "# '11', '02' only\n",
    "print(split('\\d+', 'On 12th Jan 2016, at 11:02 AM'))"
   ]
  },
  {
   "cell_type": "markdown",
   "id": "4de220c7",
   "metadata": {},
   "source": [
    "# 4. re.sub() \n",
    "- The ‘sub’ in the function stands for SubString, a certain regular expression pattern is searched in the given string(3rd parameter), and upon finding the substring pattern is replaced by repl(2nd parameter), count checks and maintains the number of times this occurs. \n",
    "\n",
    "- Syntax:\n",
    "\n",
    " - re.sub(pattern, repl, string, count=0, flags=0)\n",
    "\n",
    "Example 1:"
   ]
  },
  {
   "cell_type": "code",
   "execution_count": 35,
   "id": "23cd7ead",
   "metadata": {},
   "outputs": [
    {
     "name": "stdout",
     "output_type": "stream",
     "text": [
      "S~*ject has ~*er booked already\n"
     ]
    }
   ],
   "source": [
    "# Regular Expression pattern 'ub' matches the\n",
    "# string at \"Subject\" and \"Uber\". As the CASE\n",
    "# has been ignored, using Flag, 'ub' should\n",
    "# match twice with the string Upon matching,\n",
    "# 'ub' is replaced by '~*' in \"Subject\", and\n",
    "# in \"Uber\", 'Ub' is replaced.\n",
    "print(re.sub('ub', '~*', 'Subject has Uber booked already',\n",
    "             flags=re.IGNORECASE))"
   ]
  },
  {
   "cell_type": "code",
   "execution_count": 36,
   "id": "1cee347e",
   "metadata": {},
   "outputs": [
    {
     "name": "stdout",
     "output_type": "stream",
     "text": [
      "S~*ject has Uber booked already\n"
     ]
    }
   ],
   "source": [
    "# Consider the Case Sensitivity, 'Ub' in\n",
    "# \"Uber\", will not be replaced.\n",
    "print(re.sub('ub', '~*', 'Subject has Uber booked already'))"
   ]
  },
  {
   "cell_type": "code",
   "execution_count": 37,
   "id": "f8954f60",
   "metadata": {},
   "outputs": [
    {
     "name": "stdout",
     "output_type": "stream",
     "text": [
      "S~*ject has Uber booked already\n",
      "Baked Beans & Spam\n"
     ]
    }
   ],
   "source": [
    "# As count has been given value 1, the maximum\n",
    "# times replacement occurs is 1\n",
    "print(re.sub('ub', '~*', 'Subject has Uber booked already',\n",
    "             count=1, flags=re.IGNORECASE))\n",
    " \n",
    "# 'r' before the pattern denotes RE, \\s is for\n",
    "# start and end of a String.\n",
    "print(re.sub(r'\\sAND\\s', ' & ', 'Baked Beans And Spam',\n",
    "             flags=re.IGNORECASE))"
   ]
  },
  {
   "cell_type": "markdown",
   "id": "17756e85",
   "metadata": {},
   "source": [
    "# 5.re.subn() \n",
    "- subn() is similar to sub() in all ways, except in its way of providing output. It returns a tuple with a count of the total of replacement and the new string rather than just the string. \n",
    "\n",
    "- Syntax:\n",
    "\n",
    " - - * re.subn(pattern, repl, string, count=0, flags=0)*\n",
    "Example:"
   ]
  },
  {
   "cell_type": "code",
   "execution_count": 38,
   "id": "67e0c829",
   "metadata": {},
   "outputs": [
    {
     "name": "stdout",
     "output_type": "stream",
     "text": [
      "('S~*ject has Uber booked already', 1)\n",
      "('S~*ject has ~*er booked already', 2)\n",
      "2\n",
      "S~*ject has ~*er booked already\n"
     ]
    }
   ],
   "source": [
    "print(re.subn('ub', '~*', 'Subject has Uber booked already'))\n",
    " \n",
    "t = re.subn('ub', '~*', 'Subject has Uber booked already',\n",
    "            flags=re.IGNORECASE)\n",
    "print(t)\n",
    "print(len(t))\n",
    " \n",
    "# This will give same output as sub() would have\n",
    "print(t[0])"
   ]
  },
  {
   "cell_type": "markdown",
   "id": "ea64b336",
   "metadata": {},
   "source": [
    "# 6. re.escape()\n",
    "- Returns string with all non-alphanumerics backslashed, this is useful if you want to match an arbitrary literal string that may have regular expression metacharacters in it.\n",
    "\n",
    "- Syntax:\n",
    "\n",
    "- re.escape(string)\n",
    "\n",
    "Example:"
   ]
  },
  {
   "cell_type": "code",
   "execution_count": 39,
   "id": "1a113c8a",
   "metadata": {},
   "outputs": [
    {
     "name": "stdout",
     "output_type": "stream",
     "text": [
      "This\\ is\\ Awesome\\ even\\ 1\\ AM\n",
      "I\\ Asked\\ what\\ is\\ this\\ \\[a\\-9\\],\\ he\\ said\\ \\\t\\ \\^WoW\n"
     ]
    }
   ],
   "source": [
    "# escape() returns a string with BackSlash '\\',\n",
    "# before every Non-Alphanumeric Character\n",
    "# In 1st case only ' ', is not alphanumeric\n",
    "# In 2nd case, ' ', caret '^', '-', '[]', '\\'\n",
    "# are not alphanumeric\n",
    "print(re.escape(\"This is Awesome even 1 AM\"))\n",
    "print(re.escape(\"I Asked what is this [a-9], he said \\t ^WoW\"))"
   ]
  },
  {
   "cell_type": "markdown",
   "id": "e5c845e5",
   "metadata": {},
   "source": [
    "# 7.re.search()\n",
    "- This method either returns None (if the pattern doesn’t match), or a re.MatchObject contains information about the matching part of the string. This method stops after the first match, so this is best suited for testing a regular expression more than extracting data.\n",
    "\n",
    "- Example: Searching for an occurrence of the pattern"
   ]
  },
  {
   "cell_type": "code",
   "execution_count": 46,
   "id": "9dc24c13",
   "metadata": {},
   "outputs": [
    {
     "name": "stdout",
     "output_type": "stream",
     "text": [
      "Full match: June 24\n",
      "Match at index 14, 21\n",
      "Month: June\n"
     ]
    }
   ],
   "source": [
    "# Lets use a regular expression to match a date string\n",
    "# in the form of Month name followed by day number\n",
    "regex = r\"([a-zA-Z]+) (\\d+)\"\n",
    " \n",
    "match = re.search(regex, \"I was born on June 24\")\n",
    "\n",
    "print (\"Full match: %s\" % (match.group(0)))\n",
    "print (\"Match at index %s, %s\" % (match.start(), match.end()))\n",
    "# So this will print \"June\"\n",
    "print (\"Month: %s\" % (match.group(1)))\n",
    " "
   ]
  },
  {
   "cell_type": "markdown",
   "id": "198f3ce8",
   "metadata": {},
   "source": [
    "# Match Object\n",
    "A Match object contains all the information about the search and the result and if there is no match found then None will be returned. Let’s see some of the commonly used methods and attributes of the match object.\n",
    "\n",
    "Getting the string and the regex\n",
    "match.re attribute returns the regular expression passed and match.string attribute returns the string passed.\n",
    "\n",
    "Example: Getting the string and the regex of the matched object"
   ]
  },
  {
   "cell_type": "code",
   "execution_count": 47,
   "id": "8fa48275",
   "metadata": {},
   "outputs": [
    {
     "name": "stdout",
     "output_type": "stream",
     "text": [
      "re.compile('\\\\bG')\n",
      "Welcome to GeeksForGeeks\n"
     ]
    }
   ],
   "source": [
    "s = \"Welcome to GeeksForGeeks\"\n",
    " \n",
    "# here x is the match object\n",
    "res = re.search(r\"\\bG\", s)\n",
    " \n",
    "print(res.re)\n",
    "print(res.string)"
   ]
  },
  {
   "cell_type": "markdown",
   "id": "1f82529c",
   "metadata": {},
   "source": [
    "# Getting index of matched object\n",
    "- start() method returns the starting index of the matched substring\n",
    "- end() method returns the ending index of the matched substring\n",
    "- span() method returns a tuple containing the starting and the ending index of the matched substring\n",
    "\n",
    "Example: Getting index of matched object "
   ]
  },
  {
   "cell_type": "code",
   "execution_count": 48,
   "id": "5d0f7fe6",
   "metadata": {},
   "outputs": [
    {
     "name": "stdout",
     "output_type": "stream",
     "text": [
      "11\n",
      "14\n",
      "(11, 14)\n"
     ]
    }
   ],
   "source": [
    "s = \"Welcome to GeeksForGeeks\"\n",
    " \n",
    "# here x is the match object\n",
    "res = re.search(r\"\\bGee\", s)\n",
    " \n",
    "print(res.start())\n",
    "print(res.end())\n",
    "print(res.span())"
   ]
  },
  {
   "cell_type": "markdown",
   "id": "5ccd65ca",
   "metadata": {},
   "source": [
    "# Metacharacter backslash ‘\\’ has a very important role as it signals various sequences. If the backslash is to be used without its special meaning as metacharacter, use’\\\\’\n",
    "Example 2: Set class [\\s,.] will match any whitespace character,  ‘,’,  or, ‘.’ . "
   ]
  },
  {
   "cell_type": "markdown",
   "id": "a8765470",
   "metadata": {},
   "source": [
    "# List of special sequences \n",
    "please see https://www.geeksforgeeks.org/regular-expression-python-examples-set-1/?ref=lbp"
   ]
  },
  {
   "cell_type": "markdown",
   "id": "2cacb197",
   "metadata": {},
   "source": [
    "# Special Sequences\n",
    "- Special sequences do not match for the actual character in the string instead it tells the specific location in the search string where the match must occur. It makes it easier to write commonly used patterns.  "
   ]
  },
  {
   "cell_type": "markdown",
   "id": "de4beea9",
   "metadata": {},
   "source": [
    "# Special Sequence Examples"
   ]
  },
  {
   "cell_type": "markdown",
   "id": "4380415d",
   "metadata": {},
   "source": [
    " # 1. \\d or \\d+  \\D"
   ]
  },
  {
   "cell_type": "code",
   "execution_count": 25,
   "id": "51e60825",
   "metadata": {},
   "outputs": [
    {
     "name": "stdout",
     "output_type": "stream",
     "text": [
      "['1', '1', '4', '1', '8', '8', '6']\n"
     ]
    }
   ],
   "source": [
    "# \\d is equivalent to [0-9].\n",
    "p = re.compile('\\d')\n",
    "print(p.findall(\"I went to him at 11 A.M. on 4th July 1886\"))"
   ]
  },
  {
   "cell_type": "code",
   "execution_count": 26,
   "id": "d80fbdb8",
   "metadata": {
    "scrolled": true
   },
   "outputs": [
    {
     "name": "stdout",
     "output_type": "stream",
     "text": [
      "['11', '4', '1886']\n"
     ]
    }
   ],
   "source": [
    "# \\d+ will match a group on [0-9], group\n",
    "# of one or greater size\n",
    "p = re.compile('\\d+')\n",
    "print(p.findall(\"I went to him at 11 A.M. on 4th July 1886\"))"
   ]
  },
  {
   "cell_type": "code",
   "execution_count": 49,
   "id": "a5db88ab",
   "metadata": {},
   "outputs": [
    {
     "name": "stdout",
     "output_type": "stream",
     "text": [
      "me t\n"
     ]
    }
   ],
   "source": [
    "s = \"Welcome to GeeksForGeeks\"\n",
    " \n",
    "# here x is the match object\n",
    "res = re.search(r\"\\D{2} t\", s) #Matches any non-digit character, \n",
    " \n",
    "print(res.group())"
   ]
  },
  {
   "cell_type": "markdown",
   "id": "84d422fc",
   "metadata": {},
   "source": [
    "# 2.   \\w or \\w+ and \\W"
   ]
  },
  {
   "cell_type": "code",
   "execution_count": 27,
   "id": "056d1143",
   "metadata": {},
   "outputs": [
    {
     "name": "stdout",
     "output_type": "stream",
     "text": [
      "['H', 'e', 's', 'a', 'i', 'd', 'i', 'n', 's', 'o', 'm', 'e', '_', 'l', 'a', 'n', 'g']\n"
     ]
    }
   ],
   "source": [
    "# \\w is equivalent to [a-zA-Z0-9_].\n",
    "p = re.compile('\\w')\n",
    "print(p.findall(\"He said * in some_lang.\"))"
   ]
  },
  {
   "cell_type": "code",
   "execution_count": 28,
   "id": "c758dc24",
   "metadata": {},
   "outputs": [
    {
     "name": "stdout",
     "output_type": "stream",
     "text": [
      "['I', 'went', 'to', 'him', 'at', '11', 'A', 'M', 'he', 'said', 'in', 'some_language']\n"
     ]
    }
   ],
   "source": [
    "# \\w+ matches to group of alphanumeric character.\n",
    "p = re.compile('\\w+')\n",
    "print(p.findall(\"I went to him at 11 A.M., he \\\n",
    "said *** in some_language.\"))"
   ]
  },
  {
   "cell_type": "code",
   "execution_count": 29,
   "id": "fd75e673",
   "metadata": {},
   "outputs": [
    {
     "name": "stdout",
     "output_type": "stream",
     "text": [
      "[' ', ' ', '*', '*', '*', ' ', ' ', '.']\n"
     ]
    }
   ],
   "source": [
    "# \\W matches to non alphanumeric characters.\n",
    "p = re.compile('\\W')\n",
    "print(p.findall(\"he said *** in some_language.\"))"
   ]
  },
  {
   "cell_type": "code",
   "execution_count": null,
   "id": "14bf764b",
   "metadata": {},
   "outputs": [],
   "source": []
  },
  {
   "cell_type": "code",
   "execution_count": 5,
   "id": "0ab2b30e",
   "metadata": {},
   "outputs": [
    {
     "name": "stdout",
     "output_type": "stream",
     "text": [
      "<re.Match object; span=(52, 58), match='portal'>\n",
      "portal\n",
      "Start Index: 52\n",
      "End Index: 58\n"
     ]
    }
   ],
   "source": [
    " \n",
    "match = re.search(r'portal', 'GeeksforGeeks: A computer science \\\n",
    "                  portal for geeks')\n",
    "print(match)\n",
    "print(match.group())\n",
    "  \n",
    "print('Start Index:', match.start())\n",
    "print('End Index:', match.end())"
   ]
  },
  {
   "cell_type": "code",
   "execution_count": 6,
   "id": "e9c02511",
   "metadata": {},
   "outputs": [
    {
     "name": "stdout",
     "output_type": "stream",
     "text": [
      "portal\n"
     ]
    }
   ],
   "source": [
    "match = re.search(r'portal', 'GeeksforGeeks: A computer science \\\n",
    "                  portal for geeks')\n",
    "#print(match)\n",
    "print(match.group())"
   ]
  }
 ],
 "metadata": {
  "kernelspec": {
   "display_name": "Python 3 (ipykernel)",
   "language": "python",
   "name": "python3"
  },
  "language_info": {
   "codemirror_mode": {
    "name": "ipython",
    "version": 3
   },
   "file_extension": ".py",
   "mimetype": "text/x-python",
   "name": "python",
   "nbconvert_exporter": "python",
   "pygments_lexer": "ipython3",
   "version": "3.9.16"
  }
 },
 "nbformat": 4,
 "nbformat_minor": 5
}
