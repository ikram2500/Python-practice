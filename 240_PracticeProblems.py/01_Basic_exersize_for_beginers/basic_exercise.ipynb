{
 "cells": [
  {
   "cell_type": "code",
   "execution_count": null,
   "id": "2aac791c",
   "metadata": {},
   "outputs": [
    {
     "name": "stdout",
     "output_type": "stream",
     "text": [
      "4 5\n",
      "After swapping:\n",
      "5 4\n"
     ]
    }
   ],
   "source": [
    "#Exercise 1: Swap the number without using third variable \n",
    "# Swapping the numbers using addition and subtraction\n",
    "x = int(input(\"Enter first number: \"))\n",
    "y = int(input(\"Enter second number: \"))\n",
    "# Swapping the numbers using arithmetic operations\n",
    "\n",
    "print(x,y)\n",
    "x = x + y\n",
    "y = x - y\n",
    "x = x - y\n",
    "print(\"After swapping:\")\n",
    "print(x, y)\n",
    "\n",
    "\n",
    "\n"
   ]
  },
  {
   "cell_type": "code",
   "execution_count": 2,
   "id": "a529ed30",
   "metadata": {},
   "outputs": [
    {
     "name": "stdout",
     "output_type": "stream",
     "text": [
      "4 5\n",
      "1\n",
      "4\n",
      "5\n",
      "After swapping using XOR:\n",
      "5 4\n"
     ]
    }
   ],
   "source": [
    "# Swapping the numbers using bitwise XOR\n",
    "x = int(input(\"Enter first number: \"))\n",
    "y = int(input(\"Enter second number: \"))\n",
    "print(x, y)\n",
    "x = x ^ y \n",
    "print(x) \n",
    "y = x ^ y\n",
    "print(y)\n",
    "x = x ^ y\n",
    "print(x)\n",
    "print(\"After swapping using XOR:\")\n",
    "print(x, y)\n"
   ]
  },
  {
   "cell_type": "code",
   "execution_count": 6,
   "id": "57571537",
   "metadata": {},
   "outputs": [
    {
     "name": "stdout",
     "output_type": "stream",
     "text": [
      "5\n"
     ]
    }
   ],
   "source": [
    "print(4 ^ 1)"
   ]
  },
  {
   "cell_type": "code",
   "execution_count": 5,
   "id": "219b4647",
   "metadata": {},
   "outputs": [
    {
     "name": "stdout",
     "output_type": "stream",
     "text": [
      "1\n"
     ]
    }
   ],
   "source": [
    "print(4 ^ 5)"
   ]
  },
  {
   "cell_type": "code",
   "execution_count": 3,
   "id": "b3c02177",
   "metadata": {},
   "outputs": [
    {
     "name": "stdout",
     "output_type": "stream",
     "text": [
      "4 5\n",
      "After swapping using tuple unpacking:\n",
      "5 4\n"
     ]
    }
   ],
   "source": [
    "# Swapping the numbers using tuple unpacking\n",
    "x = int(input(\"Enter first number: \"))\n",
    "y = int(input(\"Enter second number: \"))\n",
    "print(x, y)\n",
    "x, y = y, x\n",
    "print(\"After swapping using tuple unpacking:\")\n",
    "print(x, y)\n"
   ]
  },
  {
   "cell_type": "code",
   "execution_count": 1,
   "id": "1c96eb9e",
   "metadata": {},
   "outputs": [
    {
     "name": "stdout",
     "output_type": "stream",
     "text": [
      "4 5\n",
      "20\n",
      "4\n",
      "5\n",
      "After swapping using multiplication and division:\n",
      "5 4\n"
     ]
    }
   ],
   "source": [
    "# Swapping the numbers using multiplication and division\n",
    "x = int(input(\"Enter first number: \"))\n",
    "y = int(input(\"Enter second number: \"))\n",
    "print(x, y)\n",
    "x = x * y \n",
    "print(x)\n",
    "y = x // y\n",
    "print(y)\n",
    "x = x // y\n",
    "print(x)\n",
    "print(\"After swapping using multiplication and division:\")\n",
    "print(x, y) \n"
   ]
  },
  {
   "cell_type": "code",
   "execution_count": 7,
   "id": "4535677e",
   "metadata": {},
   "outputs": [
    {
     "name": "stdout",
     "output_type": "stream",
     "text": [
      "567\n",
      "reverse of n:  {'765'}\n"
     ]
    }
   ],
   "source": [
    "#Exercise 02:  write a Program to extract each digit from an integer in the reverse order. \n",
    "n = input(\"enter the number\")\n",
    "print(n)\n",
    "y = n[::-1]\n",
    "k = \"\".join(y)\n",
    "print(f\"reverse of n: \", {k} )\n"
   ]
  },
  {
   "cell_type": "code",
   "execution_count": 17,
   "id": "cfbc8f8e",
   "metadata": {},
   "outputs": [
    {
     "name": "stdout",
     "output_type": "stream",
     "text": [
      "21\n"
     ]
    }
   ],
   "source": [
    "n = '1234'\n",
    "y = n[1::-1]\n",
    "print(y)"
   ]
  },
  {
   "cell_type": "code",
   "execution_count": 9,
   "id": "b393e347",
   "metadata": {},
   "outputs": [
    {
     "name": "stdout",
     "output_type": "stream",
     "text": [
      "sum of the three digit number 256 is: 13\n"
     ]
    }
   ],
   "source": [
    "#Exercise 03: Write a program that will give you the sum of 3 digits\n",
    "x = int(input(\"enter the three digit number\"))\n",
    "\n",
    "a = x % 10 #will get the last digit\n",
    "\n",
    "num = x // 10 # integer division here we will get first two digit\n",
    "\n",
    "b = num%10 #get the last digit of the two digit number\n",
    "\n",
    "c = num// 10 #get the first digit of the two digit number\n",
    "sum = a + b + c\n",
    "print(f\"sum of the three digit number {x} is: {sum}\")\n"
   ]
  },
  {
   "cell_type": "code",
   "execution_count": 11,
   "id": "57f299e8",
   "metadata": {},
   "outputs": [
    {
     "name": "stdout",
     "output_type": "stream",
     "text": [
      "15\n"
     ]
    }
   ],
   "source": [
    "#Exercise: Write a program to find the sum of the digits of a number\n",
    "def sum_of_digits(n):\n",
    "    total = 0\n",
    "    while n > 0:\n",
    "        digit = n % 10\n",
    "        total += digit\n",
    "        n //= 10\n",
    "    return total\n",
    "print(sum_of_digits(12345))  # Example usage, should return 15\n"
   ]
  },
  {
   "cell_type": "code",
   "execution_count": 12,
   "id": "bd6af96f",
   "metadata": {},
   "outputs": [
    {
     "name": "stdout",
     "output_type": "stream",
     "text": [
      "15\n"
     ]
    }
   ],
   "source": [
    "#Exercise: Write a program to find the sum of the digits of a number using recursion\n",
    "def sum_of_digits_recursive(n):\n",
    "    if n == 0:\n",
    "        return 0\n",
    "    else:\n",
    "        return n % 10 + sum_of_digits_recursive(n // 10)\n",
    "    \n",
    "print(sum_of_digits_recursive(12345))  # Example usage, should return 15"
   ]
  },
  {
   "cell_type": "code",
   "execution_count": 1,
   "id": "4d9e2971",
   "metadata": {},
   "outputs": [
    {
     "name": "stdout",
     "output_type": "stream",
     "text": [
      "Original number: 456\n",
      "The reversed number is: 654\n",
      "False\n"
     ]
    }
   ],
   "source": [
    "#Exercise: 04: Write a program that will reverse a four digit number. Also it checks whether the reverse.\n",
    "\n",
    "def reverse_any_digit_number(n):\n",
    "    \n",
    "    reversed_number = 0\n",
    "    while n > 0:\n",
    "        digit = n % 10\n",
    "        reversed_number = reversed_number * 10 + digit\n",
    "        n //= 10\n",
    "    \n",
    "    return reversed_number\n",
    "\n",
    "# Example usage\n",
    "n = int(input(\"Enter a four-digit number: \")) \n",
    "print(f\"Original number: {n}\")  \n",
    "result = reverse_any_digit_number(n)\n",
    "print(f\"The reversed number is: {result}\")\n",
    "if  n == result:\n",
    "    print (True)\n",
    "else:\n",
    "    print(False)"
   ]
  },
  {
   "cell_type": "code",
   "execution_count": null,
   "id": "3fcb3dfb",
   "metadata": {},
   "outputs": [
    {
     "data": {
      "text/plain": [
       "3.605551275463989"
      ]
     },
     "execution_count": 3,
     "metadata": {},
     "output_type": "execute_result"
    }
   ],
   "source": [
    "# Exercise: 05: Write a program to find the euclidean distance between two coordinates.\n",
    "import math\n",
    "def eucledian_distance(x1, y1, x2, y2):\n",
    "    return math.sqrt((x2 - x1)**2 + (y2 - y1)**2)\n",
    "eucledian_distance(4,5,6,8)"
   ]
  },
  {
   "cell_type": "code",
   "execution_count": 6,
   "id": "c6d44de2",
   "metadata": {},
   "outputs": [
    {
     "name": "stdout",
     "output_type": "stream",
     "text": [
      "yes is divisble by 3 and 6\n"
     ]
    }
   ],
   "source": [
    "# Exercise: 06: Write a program that will tell you wether the given number is divisible by 3 & 6.\n",
    "def is_divisble_by_3_6(n):\n",
    "    if n % 3 == 0  and n % 6 == 0 :\n",
    "        print (\"yes is divisble by 3 and 6\")\n",
    "\n",
    "    else :\n",
    "        print(\"not possible\") \n",
    "\n",
    "is_divisble_by_3_6(30)"
   ]
  },
  {
   "cell_type": "code",
   "execution_count": 14,
   "id": "24c8be0b",
   "metadata": {},
   "outputs": [
    {
     "name": "stdout",
     "output_type": "stream",
     "text": [
      "345\n",
      "50\n"
     ]
    }
   ],
   "source": [
    "# Exercise 07: Write a program that will take three digits from the user and add the square of each\n",
    "n = int(input(\"enter 3 digit number\"))\n",
    "print(n)\n",
    "a = n%10 # returns last digit\n",
    "num = n//10 # returns first 2 digits\n",
    "b = num%10 # returns the last digit of the 2 remaining digit\n",
    "c = num//10\n",
    "square = (a**2) + (b**2) + (c**2)\n",
    "print(square)"
   ]
  },
  {
   "cell_type": "code",
   "execution_count": null,
   "id": "9b227973",
   "metadata": {},
   "outputs": [
    {
     "name": "stdout",
     "output_type": "stream",
     "text": [
      "Armstrong number\n"
     ]
    }
   ],
   "source": [
    "#8: Write a program that will check whether the number is armstorng number or not.\n",
    "n = int(input(\"Enter three digit number: \"))\n",
    "\n",
    "a = n % 10 #last digit\n",
    "num = n // 10 #first two digits\n",
    "b = num % 10 #second digit\n",
    "c = num // 10 #first digit\n",
    "if (a**3 + b**3 + c**3) == n:\n",
    "    print(\"Armstrong number\")\n",
    "else:\n",
    "    print(\"Not an Armstrong number\")\n",
    "\n",
    "#153 is an Armstrong number because 1^3 + 5^3 + 3^3 = 153"
   ]
  },
  {
   "cell_type": "code",
   "execution_count": null,
   "id": "608995ff",
   "metadata": {},
   "outputs": [
    {
     "name": "stdout",
     "output_type": "stream",
     "text": [
      "Narcissistic number\n"
     ]
    }
   ],
   "source": [
    "#9 Write a program that will take user four digit number and check whether the number is narcissistic number or not.\n",
    "n = int(input(\"Enter four digit number: \"))\n",
    "a = n % 10 #last digit\n",
    "num = n // 10 #first three digits\n",
    "b = num % 10 #third digit\n",
    "num = num // 10 #first two digits\n",
    "c = num % 10 #second digit\n",
    "d = num // 10 #first digit\n",
    "\n",
    "if (a**4 + b**4 + c**4 + d**4) == n:\n",
    "    print(\"Narcissistic number\")\n",
    "else:\n",
    "    print(\"Not a Narcissistic number\")\n",
    "\n",
    "# 1634 is a Narcissistic number because 1^4 + 6^4 + 3^4 + 4^4 = 1634"
   ]
  },
  {
   "cell_type": "code",
   "execution_count": null,
   "id": "6a4c61dc",
   "metadata": {},
   "outputs": [],
   "source": []
  }
 ],
 "metadata": {
  "kernelspec": {
   "display_name": "base",
   "language": "python",
   "name": "python3"
  },
  "language_info": {
   "codemirror_mode": {
    "name": "ipython",
    "version": 3
   },
   "file_extension": ".py",
   "mimetype": "text/x-python",
   "name": "python",
   "nbconvert_exporter": "python",
   "pygments_lexer": "ipython3",
   "version": "3.11.7"
  }
 },
 "nbformat": 4,
 "nbformat_minor": 5
}
