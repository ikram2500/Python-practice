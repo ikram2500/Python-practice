{
 "cells": [
  {
   "cell_type": "code",
   "execution_count": 1,
   "id": "051c8b16",
   "metadata": {},
   "outputs": [
    {
     "name": "stdout",
     "output_type": "stream",
     "text": [
      "name**is**james\n"
     ]
    }
   ],
   "source": [
    "#1. Accept numbers from the user\n",
    "name = input(\"Enter your name: \")\n",
    "\n",
    "#2. Display three string 'Name', 'is', 'james' as 'name' is 'james'\n",
    "print (\"name\", \"is\", \"james\", sep= \"**\")"
   ]
  },
  {
   "cell_type": "code",
   "execution_count": 3,
   "id": "38cae4af",
   "metadata": {},
   "outputs": [
    {
     "name": "stdout",
     "output_type": "stream",
     "text": [
      "The octal number of decimal number 12 is 14\n"
     ]
    }
   ],
   "source": [
    "#3 Convert Decimal number to octal using print ouput formatting\n",
    "# The octal number of decimal number 8 is 10\n",
    "number = 12\n",
    "print(f\"The octal number of decimal number {number} is {oct(number)[2:]}\")"
   ]
  },
  {
   "cell_type": "code",
   "execution_count": 9,
   "id": "7e86d1ce",
   "metadata": {},
   "outputs": [
    {
     "name": "stdout",
     "output_type": "stream",
     "text": [
      "The float number is 56.88\n",
      "The float number is 56.880\n",
      "The float number is 56.88\n",
      "The float number is 56.88\n",
      "56.88\n"
     ]
    }
   ],
   "source": [
    "#4 Display float number with 2 decimal places using print()\n",
    "\n",
    "float_number = 56.87547\n",
    "y = float(round(float_number,2))\n",
    "print(f\"The float number is {y:.2f}\")\n",
    "print(f\"The float number is {y:.3f}\")\n",
    "print(f\"The float number is {y:.2f}\".format(y))\n",
    "print(\"The float number is {:.2f}\".format(y))\n",
    "print(y)"
   ]
  },
  {
   "cell_type": "code",
   "execution_count": 25,
   "id": "76f50958",
   "metadata": {},
   "outputs": [
    {
     "name": "stdout",
     "output_type": "stream",
     "text": [
      "The factors of 12 are: 1 2 3 4 6 12 "
     ]
    }
   ],
   "source": [
    "#5. Print all factors of a number provided by user\n",
    "def print_factors(n):\n",
    "    print(f\"The factors of {n} are: \", end=\"\")\n",
    "    for i in range(1, n + 1):\n",
    "        if n % i == 0:\n",
    "            print(i, end=\" \")\n",
    "   \n",
    "            \n",
    "\n",
    "print_factors(12)\n",
    "\n"
   ]
  },
  {
   "cell_type": "code",
   "execution_count": 29,
   "id": "3427d446",
   "metadata": {},
   "outputs": [
    {
     "name": "stdout",
     "output_type": "stream",
     "text": [
      "[2.2, 3.2, 2.3, 2.1, 2.1]\n"
     ]
    }
   ],
   "source": [
    "#6 Accept a list of 5 float numbers from the user\n",
    "def accept_float_list():\n",
    "    float_list = []\n",
    "    for i in range(5):\n",
    "        num = float(input(f\"Enter float number {i + 1}: \"))\n",
    "        float_list.append(num)\n",
    "    return float_list\n",
    "\n",
    "float_numbers = accept_float_list()\n",
    "print (float_numbers)\n"
   ]
  },
  {
   "cell_type": "code",
   "execution_count": 34,
   "id": "8682c067",
   "metadata": {},
   "outputs": [
    {
     "name": "stdout",
     "output_type": "stream",
     "text": [
      "The list of float numbers is: [2.3, 3.2, 3.6, 2.1, 1.2]\n"
     ]
    }
   ],
   "source": [
    "l1 = []\n",
    "\n",
    "while len(l1) < 5 :\n",
    "    try:\n",
    "        num = float(input(\"Enter a float number: \"))\n",
    "        l1.append(num)\n",
    "    except ValueError:\n",
    "        print(\"Please enter a valid float number.\")\n",
    "\n",
    "print(\"The list of float numbers is:\", l1)"
   ]
  },
  {
   "cell_type": "code",
   "execution_count": 37,
   "id": "e725082d",
   "metadata": {},
   "outputs": [
    {
     "name": "stdout",
     "output_type": "stream",
     "text": [
      "['imran', 'ikrfan', 'salman']\n"
     ]
    }
   ],
   "source": [
    "#7: Accept any three string from one input() call\n",
    "def accept_three_strings():\n",
    "    strings = input(\"Enter three strings separated by spaces: \").split()\n",
    "    if len(strings) != 3:\n",
    "        print(\"Please enter exactly three strings.\")\n",
    "        return None\n",
    "    return strings\n",
    "three_strings = accept_three_strings()\n",
    "print(three_strings)  "
   ]
  },
  {
   "cell_type": "code",
   "execution_count": 38,
   "id": "4a784cf7",
   "metadata": {},
   "outputs": [
    {
     "name": "stdout",
     "output_type": "stream",
     "text": [
      "ikram imran salman\n"
     ]
    }
   ],
   "source": [
    "inp = input(\"Enter three strings separated by spaces: \")\n",
    "sep = inp.split()\n",
    "name1, name2, name3 = sep\n",
    "print(name1, name2, name3)"
   ]
  },
  {
   "cell_type": "code",
   "execution_count": 39,
   "id": "028ff863",
   "metadata": {},
   "outputs": [
    {
     "name": "stdout",
     "output_type": "stream",
     "text": [
      "i have 1000 dollars, i bought 5 items at the price of 200 each\n"
     ]
    }
   ],
   "source": [
    "#8 format variable using a string.format() method\n",
    "totalmoney = 1000\n",
    "quantity = 5\n",
    "price = 200\n",
    "print(\"i have {} dollars, i bought {} items at the price of {} each\".format(totalmoney, quantity, price))"
   ]
  },
  {
   "cell_type": "code",
   "execution_count": 41,
   "id": "2918a8f6",
   "metadata": {},
   "outputs": [
    {
     "name": "stdout",
     "output_type": "stream",
     "text": [
      "The simple interest is: 120000.00\n",
      "the simple interest is: 120000.00 on 200000.0 for the time 2.0\n"
     ]
    }
   ],
   "source": [
    "#9 Write a program to find the simple interest when the value of principal, rate and time is given by user\n",
    "def calculate_simple_interest(principal, rate, time):\n",
    "    return (principal * rate * time) / 100\n",
    "principal = float(input(\"Enter the principal amount: \"))\n",
    "rate = float(input(\"Enter the rate of interest: \"))\n",
    "time = float(input(\"Enter the time in years: \"))\n",
    "simple_interest = calculate_simple_interest(principal, rate, time)\n",
    "print(f\"The simple interest is: {simple_interest:.2f}\")\n",
    "print(\"the simple interest is: {:.2f} on {} for the time {}\".format(simple_interest, principal, time))"
   ]
  },
  {
   "cell_type": "code",
   "execution_count": 43,
   "id": "a8f14598",
   "metadata": {},
   "outputs": [
    {
     "name": "stdout",
     "output_type": "stream",
     "text": [
      "The volume of the sphere with radius 3.2 is: 137.19\n",
      "The volume of the sphere with radius 3.2 is: 137.19\n"
     ]
    }
   ],
   "source": [
    "#10 Write a program to find the volume of a sphere when the radius is given by user\n",
    "def calculate_volume_of_sphere(radius):\n",
    "    \n",
    "    return (4/3) * 3.14 * (radius ** 3)\n",
    "radius = float(input(\"Enter the radius of the sphere: \"))\n",
    "volume = calculate_volume_of_sphere(radius)\n",
    "print(f\"The volume of the sphere with radius {radius} is: {volume:.2f}\")\n",
    "print(\"The volume of the sphere with radius {} is: {:.2f}\".format(radius, volume))\n"
   ]
  },
  {
   "cell_type": "code",
   "execution_count": null,
   "id": "b5f1e3df",
   "metadata": {},
   "outputs": [],
   "source": []
  }
 ],
 "metadata": {
  "kernelspec": {
   "display_name": "base",
   "language": "python",
   "name": "python3"
  },
  "language_info": {
   "codemirror_mode": {
    "name": "ipython",
    "version": 3
   },
   "file_extension": ".py",
   "mimetype": "text/x-python",
   "name": "python",
   "nbconvert_exporter": "python",
   "pygments_lexer": "ipython3",
   "version": "3.11.7"
  }
 },
 "nbformat": 4,
 "nbformat_minor": 5
}
