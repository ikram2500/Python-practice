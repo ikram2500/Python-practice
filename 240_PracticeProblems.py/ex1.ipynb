{
 "cells": [
  {
   "cell_type": "code",
   "execution_count": 3,
   "id": "c4eb8fb7",
   "metadata": {},
   "outputs": [
    {
     "name": "stdout",
     "output_type": "stream",
     "text": [
      "234\n",
      "4\n",
      "3\n",
      "2\n",
      "9\n"
     ]
    }
   ],
   "source": [
    "# Write a program that will give you the sum of 3 digits.\n",
    "x = int(input('Please inter three digit number'))\n",
    "print(x)\n",
    "a= x%10\n",
    "print(a)\n",
    "num = x//10\n",
    "b =num%10 \n",
    "print(b)\n",
    "c=num//10\n",
    "print(c)\n",
    "print(a+b+c)"
   ]
  },
  {
   "cell_type": "code",
   "execution_count": null,
   "id": "652670ec",
   "metadata": {},
   "outputs": [],
   "source": []
  }
 ],
 "metadata": {
  "kernelspec": {
   "display_name": "env",
   "language": "python",
   "name": "python3"
  },
  "language_info": {
   "codemirror_mode": {
    "name": "ipython",
    "version": 3
   },
   "file_extension": ".py",
   "mimetype": "text/x-python",
   "name": "python",
   "nbconvert_exporter": "python",
   "pygments_lexer": "ipython3",
   "version": "3.12.10"
  }
 },
 "nbformat": 4,
 "nbformat_minor": 5
}
