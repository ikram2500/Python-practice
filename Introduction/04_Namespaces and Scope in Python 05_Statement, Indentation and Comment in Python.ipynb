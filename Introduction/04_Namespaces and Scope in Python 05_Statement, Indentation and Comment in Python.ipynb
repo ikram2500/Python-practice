{
 "cells": [
  {
   "cell_type": "markdown",
   "id": "e96f7656",
   "metadata": {},
   "source": [
    "06_How to assign values to variables in Python and other languages"
   ]
  },
  {
   "cell_type": "code",
   "execution_count": null,
   "id": "e8238062",
   "metadata": {},
   "outputs": [],
   "source": []
  }
 ],
 "metadata": {
  "kernelspec": {
   "display_name": "Python 3 (ipykernel)",
   "language": "python",
   "name": "python3"
  },
  "language_info": {
   "codemirror_mode": {
    "name": "ipython",
    "version": 3
   },
   "file_extension": ".py",
   "mimetype": "text/x-python",
   "name": "python",
   "nbconvert_exporter": "python",
   "pygments_lexer": "ipython3",
   "version": "3.9.16"
  }
 },
 "nbformat": 4,
 "nbformat_minor": 5
}
